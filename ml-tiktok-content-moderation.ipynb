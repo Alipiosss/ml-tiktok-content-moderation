{
  "cells": [
    {
      "cell_type": "markdown",
      "metadata": {
        "id": "DtNBZFHO3M7n"
      },
      "source": [
        "# **TikTok Project**\n",
        "**Machine learning**"
      ]
    },
    {
      "cell_type": "markdown",
      "metadata": {
        "id": "9ttxbfHXzB4e"
      },
      "source": []
    },
    {
      "cell_type": "markdown",
      "metadata": {
        "id": "rgSbVJvomcVa"
      },
      "source": [
        "## 🎓 Course 6 Final Project: Classifying TikTok Videos with Machine Learning\n",
        "\n",
        "In this activity, you will apply machine learning techniques to predict a binary outcome.\n",
        "\n",
        "The purpose of this model is to improve system efficiency and reduce response time by automating the initial stages of the content review process.\n",
        "\n",
        "The main objective is to determine whether a TikTok video presents a **\"claim\"** or an **\"opinion\"**.\n",
        "\n",
        "This project is structured into three key parts:\n",
        "\n",
        "\n",
        "### Part 1: Ethical Considerations  \n",
        "Reflect on the ethical implications of the project.  \n",
        "Should the model's objective be adjusted?\n",
        "\n",
        "\n",
        "### Part 2: Feature Engineering  \n",
        "Perform variable selection, extraction, and transformation to prepare the dataset for modeling.\n",
        "\n",
        "\n",
        "### Part 3: Modeling  \n",
        "Build and evaluate classification models, then provide guidance on next steps.\n"
      ]
    },
    {
      "cell_type": "markdown",
      "metadata": {
        "id": "Uj7uL90rosR4"
      },
      "source": [
        "# **Classify videos using machine learning**"
      ]
    },
    {
      "cell_type": "markdown",
      "metadata": {
        "id": "NzDjfCSLf6Jq"
      },
      "source": [
        "# **PACE stages**"
      ]
    },
    {
      "cell_type": "markdown",
      "metadata": {
        "id": "-svprBfKpAKf"
      },
      "source": [
        "Throughout these project notebooks, you'll see references to the problem-solving framework PACE. The following notebook components are labeled with the respective PACE stage: Plan, Analyze, Construct, and Execute."
      ]
    },
    {
      "cell_type": "markdown",
      "metadata": {
        "id": "E5g1A74r0ow_"
      },
      "source": [
        "## **PACE: Plan**"
      ]
    },
    {
      "cell_type": "markdown",
      "metadata": {
        "id": "JX669CyACLtt"
      },
      "source": [
        "1. What are you being asked to do?\n",
        "\n",
        "The task is to build a machine learning model that can automatically determine whether a TikTok video presents a claim or an opinion. Since TikTok receives an overwhelming number of user reports daily, it is impractical for human moderators to manually evaluate each one. Prior analysis has indicated that claims are more likely than opinions to be associated with violations of community guidelines. By identifying claims early in the process, TikTok can better manage moderation resources. The model will help filter out opinion-based content, which is less likely to require further action, and direct attention toward videos containing claims, especially those with a high volume of user reports. The ultimate aim is to increase efficiency, reduce moderation backlog, and ensure harmful or misleading content is reviewed promptly.\n",
        "\n",
        "What metric should I use to evaluate success of my business/organizational objective?\n",
        "The most appropriate metric to assess model performance is the F1-score, as it balances precision and recall. This is especially important because both false positives and false negatives carry real risks. Supporting metrics such as accuracy, confusion matrix, and AUC-ROC may also be reviewed, but the F1-score provides the best indication of the model’s ability to correctly identify claims while minimizing incorrect classifications.\n",
        "\n",
        "2. What are the ethical implications of the model?\n",
        "Several ethical issues must be addressed:\n",
        "\n",
        "Algorithmic bias: The model could disproportionately label certain users’ content (e.g., from unverified or banned accounts) as claims, leading to unfair scrutiny.\n",
        "\n",
        "Opacity in decision-making: Tree-based models like Random Forest lack transparency, making it difficult to justify why specific content was flagged.\n",
        "\n",
        "Content moderation risks: There is a fine line between removing harmful misinformation and suppressing valid opinions. Misuse of the model could impact freedom of expression and erode trust in the platform.\n",
        "\n",
        "Social impact: Mislabeling could affect marginalized communities if not regularly audited for fairness and representativeness.\n",
        "\n",
        "What are the consequences of your model making errors?\n",
        "False negatives (claim predicted as opinion): These errors may allow unverified or harmful information to bypass the review process, putting users at risk of exposure to misleading content.\n",
        "\n",
        "False positives (opinion predicted as claim): These mistakes may trigger unnecessary reviews of benign content, slowing down moderation workflows and potentially frustrating creators whose content is incorrectly flagged.\n",
        "\n",
        "3. How would you proceed?\n",
        "To begin, I would explore and clean the dataset to ensure it is suitable for machine learning. This includes handling missing values, encoding categorical features such as verified_status and author_ban_status, and scaling or transforming numerical features like video_view_count, video_like_count, and video_comment_count.\n",
        "\n",
        "The data dictionary reveals that there is a column called claim_status, which indicates whether a video contains a claim or an opinion. This variable is binary and will serve as the target variable for the model. In other words, the goal is to predict, for each video, whether it contains a claim (1) or an opinion (0). Since we are predicting a binary class, this is clearly a classification task.\n",
        "\n",
        "Next, I would split the dataset into training (60%), validation (20%), and test (20%) sets, following a standard machine learning workflow. I would train several candidate models—including Random Forest—using the training data. Model performance would be evaluated on the validation set using metrics such as F1-score, and the best-performing model (the \"champion\") would then be tested on the unseen test set.\n",
        "\n",
        "If the model shows strong predictive performance and passes ethical and fairness checks, I would recommend deploying it as a decision-support tool within TikTok’s moderation pipeline. Importantly, for high-risk or high-impact cases, the model should work alongside human reviewers, ensuring that final decisions consider both algorithmic prediction and human judgment."
      ]
    },
    {
      "cell_type": "markdown",
      "metadata": {
        "id": "e8Vm3QEfGELS"
      },
      "source": [
        "### **Task 1. Imports and data loading**"
      ]
    },
    {
      "cell_type": "code",
      "execution_count": null,
      "metadata": {
        "id": "tCni9wAGphb0"
      },
      "outputs": [],
      "source": [
        "# Import packages for data manipulation\n",
        "import pandas as pd\n",
        "import numpy as np\n",
        "\n",
        "# Import packages for data visualization\n",
        "import matplotlib.pyplot as plt\n",
        "import seaborn as sns\n",
        "\n",
        "# Import packages for data preprocessing\n",
        "from sklearn.feature_extraction.text import CountVectorizer\n",
        "\n",
        "# Import packages for data modeling\n",
        "from sklearn.model_selection import train_test_split, GridSearchCV\n",
        "from sklearn.metrics import classification_report, accuracy_score, precision_score, \\\n",
        "    recall_score, f1_score, confusion_matrix, ConfusionMatrixDisplay\n",
        "\n",
        "from sklearn.ensemble import RandomForestClassifier\n",
        "from xgboost import XGBClassifier\n",
        "from xgboost import plot_importance\n",
        "\n"
      ]
    },
    {
      "cell_type": "markdown",
      "metadata": {
        "id": "IeXTZ2tdbALL"
      },
      "source": []
    },
    {
      "cell_type": "code",
      "execution_count": null,
      "metadata": {
        "id": "C9ODhaOppqlw"
      },
      "outputs": [],
      "source": [
        "# Load dataset into dataframe\n",
        "data = pd.read_csv(\"tiktok_dataset.csv\")"
      ]
    },
    {
      "cell_type": "markdown",
      "metadata": {
        "id": "EgPRBjizg1oo"
      },
      "source": [
        "## **PACE: Analyze**"
      ]
    },
    {
      "cell_type": "markdown",
      "metadata": {
        "id": "TYtBhb2zR54G"
      },
      "source": [
        "### **Task 2: Examine data, summary info, and descriptive stats**"
      ]
    },
    {
      "cell_type": "code",
      "execution_count": null,
      "metadata": {
        "id": "2rfk95MLp4a_",
        "outputId": "bca524c0-0a97-4ae9-c73c-fd81bcd493e4"
      },
      "outputs": [
        {
          "data": {
            "text/html": [
              "<div>\n",
              "<style scoped>\n",
              "    .dataframe tbody tr th:only-of-type {\n",
              "        vertical-align: middle;\n",
              "    }\n",
              "\n",
              "    .dataframe tbody tr th {\n",
              "        vertical-align: top;\n",
              "    }\n",
              "\n",
              "    .dataframe thead th {\n",
              "        text-align: right;\n",
              "    }\n",
              "</style>\n",
              "<table border=\"1\" class=\"dataframe\">\n",
              "  <thead>\n",
              "    <tr style=\"text-align: right;\">\n",
              "      <th></th>\n",
              "      <th>#</th>\n",
              "      <th>claim_status</th>\n",
              "      <th>video_id</th>\n",
              "      <th>video_duration_sec</th>\n",
              "      <th>video_transcription_text</th>\n",
              "      <th>verified_status</th>\n",
              "      <th>author_ban_status</th>\n",
              "      <th>video_view_count</th>\n",
              "      <th>video_like_count</th>\n",
              "      <th>video_share_count</th>\n",
              "      <th>video_download_count</th>\n",
              "      <th>video_comment_count</th>\n",
              "    </tr>\n",
              "  </thead>\n",
              "  <tbody>\n",
              "    <tr>\n",
              "      <th>0</th>\n",
              "      <td>1</td>\n",
              "      <td>claim</td>\n",
              "      <td>7017666017</td>\n",
              "      <td>59</td>\n",
              "      <td>someone shared with me that drone deliveries a...</td>\n",
              "      <td>not verified</td>\n",
              "      <td>under review</td>\n",
              "      <td>343296.0</td>\n",
              "      <td>19425.0</td>\n",
              "      <td>241.0</td>\n",
              "      <td>1.0</td>\n",
              "      <td>0.0</td>\n",
              "    </tr>\n",
              "    <tr>\n",
              "      <th>1</th>\n",
              "      <td>2</td>\n",
              "      <td>claim</td>\n",
              "      <td>4014381136</td>\n",
              "      <td>32</td>\n",
              "      <td>someone shared with me that there are more mic...</td>\n",
              "      <td>not verified</td>\n",
              "      <td>active</td>\n",
              "      <td>140877.0</td>\n",
              "      <td>77355.0</td>\n",
              "      <td>19034.0</td>\n",
              "      <td>1161.0</td>\n",
              "      <td>684.0</td>\n",
              "    </tr>\n",
              "    <tr>\n",
              "      <th>2</th>\n",
              "      <td>3</td>\n",
              "      <td>claim</td>\n",
              "      <td>9859838091</td>\n",
              "      <td>31</td>\n",
              "      <td>someone shared with me that american industria...</td>\n",
              "      <td>not verified</td>\n",
              "      <td>active</td>\n",
              "      <td>902185.0</td>\n",
              "      <td>97690.0</td>\n",
              "      <td>2858.0</td>\n",
              "      <td>833.0</td>\n",
              "      <td>329.0</td>\n",
              "    </tr>\n",
              "    <tr>\n",
              "      <th>3</th>\n",
              "      <td>4</td>\n",
              "      <td>claim</td>\n",
              "      <td>1866847991</td>\n",
              "      <td>25</td>\n",
              "      <td>someone shared with me that the metro of st. p...</td>\n",
              "      <td>not verified</td>\n",
              "      <td>active</td>\n",
              "      <td>437506.0</td>\n",
              "      <td>239954.0</td>\n",
              "      <td>34812.0</td>\n",
              "      <td>1234.0</td>\n",
              "      <td>584.0</td>\n",
              "    </tr>\n",
              "    <tr>\n",
              "      <th>4</th>\n",
              "      <td>5</td>\n",
              "      <td>claim</td>\n",
              "      <td>7105231098</td>\n",
              "      <td>19</td>\n",
              "      <td>someone shared with me that the number of busi...</td>\n",
              "      <td>not verified</td>\n",
              "      <td>active</td>\n",
              "      <td>56167.0</td>\n",
              "      <td>34987.0</td>\n",
              "      <td>4110.0</td>\n",
              "      <td>547.0</td>\n",
              "      <td>152.0</td>\n",
              "    </tr>\n",
              "  </tbody>\n",
              "</table>\n",
              "</div>"
            ],
            "text/plain": [
              "   # claim_status    video_id  video_duration_sec  \\\n",
              "0  1        claim  7017666017                  59   \n",
              "1  2        claim  4014381136                  32   \n",
              "2  3        claim  9859838091                  31   \n",
              "3  4        claim  1866847991                  25   \n",
              "4  5        claim  7105231098                  19   \n",
              "\n",
              "                            video_transcription_text verified_status  \\\n",
              "0  someone shared with me that drone deliveries a...    not verified   \n",
              "1  someone shared with me that there are more mic...    not verified   \n",
              "2  someone shared with me that american industria...    not verified   \n",
              "3  someone shared with me that the metro of st. p...    not verified   \n",
              "4  someone shared with me that the number of busi...    not verified   \n",
              "\n",
              "  author_ban_status  video_view_count  video_like_count  video_share_count  \\\n",
              "0      under review          343296.0           19425.0              241.0   \n",
              "1            active          140877.0           77355.0            19034.0   \n",
              "2            active          902185.0           97690.0             2858.0   \n",
              "3            active          437506.0          239954.0            34812.0   \n",
              "4            active           56167.0           34987.0             4110.0   \n",
              "\n",
              "   video_download_count  video_comment_count  \n",
              "0                   1.0                  0.0  \n",
              "1                1161.0                684.0  \n",
              "2                 833.0                329.0  \n",
              "3                1234.0                584.0  \n",
              "4                 547.0                152.0  "
            ]
          },
          "execution_count": 3,
          "metadata": {},
          "output_type": "execute_result"
        }
      ],
      "source": [
        "# Display first few rows\n",
        "data.head()\n"
      ]
    },
    {
      "cell_type": "code",
      "execution_count": null,
      "metadata": {
        "id": "kYwW-G1WqX3R",
        "outputId": "ad784bd6-822d-42d0-bf33-be8cd6624595"
      },
      "outputs": [
        {
          "data": {
            "text/plain": [
              "(19382, 12)"
            ]
          },
          "execution_count": 4,
          "metadata": {},
          "output_type": "execute_result"
        }
      ],
      "source": [
        "# Get number of rows and columns\n",
        "data.shape\n"
      ]
    },
    {
      "cell_type": "code",
      "execution_count": null,
      "metadata": {
        "id": "rbpDgrXfEoVj",
        "outputId": "0a35e731-bd84-4d3c-8d02-e095dfc88248"
      },
      "outputs": [
        {
          "data": {
            "text/plain": [
              "#                             int64\n",
              "claim_status                 object\n",
              "video_id                      int64\n",
              "video_duration_sec            int64\n",
              "video_transcription_text     object\n",
              "verified_status              object\n",
              "author_ban_status            object\n",
              "video_view_count            float64\n",
              "video_like_count            float64\n",
              "video_share_count           float64\n",
              "video_download_count        float64\n",
              "video_comment_count         float64\n",
              "dtype: object"
            ]
          },
          "execution_count": 5,
          "metadata": {},
          "output_type": "execute_result"
        }
      ],
      "source": [
        "# Get data types of columns\n",
        "data.dtypes\n"
      ]
    },
    {
      "cell_type": "code",
      "execution_count": null,
      "metadata": {
        "id": "zyyKCGzCp7SS",
        "outputId": "94eb9805-1dd5-47de-81fc-3f57a60344a5"
      },
      "outputs": [
        {
          "name": "stdout",
          "output_type": "stream",
          "text": [
            "<class 'pandas.core.frame.DataFrame'>\n",
            "RangeIndex: 19382 entries, 0 to 19381\n",
            "Data columns (total 12 columns):\n",
            " #   Column                    Non-Null Count  Dtype  \n",
            "---  ------                    --------------  -----  \n",
            " 0   #                         19382 non-null  int64  \n",
            " 1   claim_status              19084 non-null  object \n",
            " 2   video_id                  19382 non-null  int64  \n",
            " 3   video_duration_sec        19382 non-null  int64  \n",
            " 4   video_transcription_text  19084 non-null  object \n",
            " 5   verified_status           19382 non-null  object \n",
            " 6   author_ban_status         19382 non-null  object \n",
            " 7   video_view_count          19084 non-null  float64\n",
            " 8   video_like_count          19084 non-null  float64\n",
            " 9   video_share_count         19084 non-null  float64\n",
            " 10  video_download_count      19084 non-null  float64\n",
            " 11  video_comment_count       19084 non-null  float64\n",
            "dtypes: float64(5), int64(3), object(4)\n",
            "memory usage: 1.8+ MB\n"
          ]
        }
      ],
      "source": [
        "# Get basic information\n",
        "data.info()\n"
      ]
    },
    {
      "cell_type": "code",
      "execution_count": null,
      "metadata": {
        "id": "HbpuAS2UqY01",
        "outputId": "34b2f224-5c97-4493-bd8c-9f954cb824a5"
      },
      "outputs": [
        {
          "data": {
            "text/html": [
              "<div>\n",
              "<style scoped>\n",
              "    .dataframe tbody tr th:only-of-type {\n",
              "        vertical-align: middle;\n",
              "    }\n",
              "\n",
              "    .dataframe tbody tr th {\n",
              "        vertical-align: top;\n",
              "    }\n",
              "\n",
              "    .dataframe thead th {\n",
              "        text-align: right;\n",
              "    }\n",
              "</style>\n",
              "<table border=\"1\" class=\"dataframe\">\n",
              "  <thead>\n",
              "    <tr style=\"text-align: right;\">\n",
              "      <th></th>\n",
              "      <th>#</th>\n",
              "      <th>video_id</th>\n",
              "      <th>video_duration_sec</th>\n",
              "      <th>video_view_count</th>\n",
              "      <th>video_like_count</th>\n",
              "      <th>video_share_count</th>\n",
              "      <th>video_download_count</th>\n",
              "      <th>video_comment_count</th>\n",
              "    </tr>\n",
              "  </thead>\n",
              "  <tbody>\n",
              "    <tr>\n",
              "      <th>count</th>\n",
              "      <td>19382.000000</td>\n",
              "      <td>1.938200e+04</td>\n",
              "      <td>19382.000000</td>\n",
              "      <td>19084.000000</td>\n",
              "      <td>19084.000000</td>\n",
              "      <td>19084.000000</td>\n",
              "      <td>19084.000000</td>\n",
              "      <td>19084.000000</td>\n",
              "    </tr>\n",
              "    <tr>\n",
              "      <th>mean</th>\n",
              "      <td>9691.500000</td>\n",
              "      <td>5.627454e+09</td>\n",
              "      <td>32.421732</td>\n",
              "      <td>254708.558688</td>\n",
              "      <td>84304.636030</td>\n",
              "      <td>16735.248323</td>\n",
              "      <td>1049.429627</td>\n",
              "      <td>349.312146</td>\n",
              "    </tr>\n",
              "    <tr>\n",
              "      <th>std</th>\n",
              "      <td>5595.245794</td>\n",
              "      <td>2.536440e+09</td>\n",
              "      <td>16.229967</td>\n",
              "      <td>322893.280814</td>\n",
              "      <td>133420.546814</td>\n",
              "      <td>32036.174350</td>\n",
              "      <td>2004.299894</td>\n",
              "      <td>799.638865</td>\n",
              "    </tr>\n",
              "    <tr>\n",
              "      <th>min</th>\n",
              "      <td>1.000000</td>\n",
              "      <td>1.234959e+09</td>\n",
              "      <td>5.000000</td>\n",
              "      <td>20.000000</td>\n",
              "      <td>0.000000</td>\n",
              "      <td>0.000000</td>\n",
              "      <td>0.000000</td>\n",
              "      <td>0.000000</td>\n",
              "    </tr>\n",
              "    <tr>\n",
              "      <th>25%</th>\n",
              "      <td>4846.250000</td>\n",
              "      <td>3.430417e+09</td>\n",
              "      <td>18.000000</td>\n",
              "      <td>4942.500000</td>\n",
              "      <td>810.750000</td>\n",
              "      <td>115.000000</td>\n",
              "      <td>7.000000</td>\n",
              "      <td>1.000000</td>\n",
              "    </tr>\n",
              "    <tr>\n",
              "      <th>50%</th>\n",
              "      <td>9691.500000</td>\n",
              "      <td>5.618664e+09</td>\n",
              "      <td>32.000000</td>\n",
              "      <td>9954.500000</td>\n",
              "      <td>3403.500000</td>\n",
              "      <td>717.000000</td>\n",
              "      <td>46.000000</td>\n",
              "      <td>9.000000</td>\n",
              "    </tr>\n",
              "    <tr>\n",
              "      <th>75%</th>\n",
              "      <td>14536.750000</td>\n",
              "      <td>7.843960e+09</td>\n",
              "      <td>47.000000</td>\n",
              "      <td>504327.000000</td>\n",
              "      <td>125020.000000</td>\n",
              "      <td>18222.000000</td>\n",
              "      <td>1156.250000</td>\n",
              "      <td>292.000000</td>\n",
              "    </tr>\n",
              "    <tr>\n",
              "      <th>max</th>\n",
              "      <td>19382.000000</td>\n",
              "      <td>9.999873e+09</td>\n",
              "      <td>60.000000</td>\n",
              "      <td>999817.000000</td>\n",
              "      <td>657830.000000</td>\n",
              "      <td>256130.000000</td>\n",
              "      <td>14994.000000</td>\n",
              "      <td>9599.000000</td>\n",
              "    </tr>\n",
              "  </tbody>\n",
              "</table>\n",
              "</div>"
            ],
            "text/plain": [
              "                  #      video_id  video_duration_sec  video_view_count  \\\n",
              "count  19382.000000  1.938200e+04        19382.000000      19084.000000   \n",
              "mean    9691.500000  5.627454e+09           32.421732     254708.558688   \n",
              "std     5595.245794  2.536440e+09           16.229967     322893.280814   \n",
              "min        1.000000  1.234959e+09            5.000000         20.000000   \n",
              "25%     4846.250000  3.430417e+09           18.000000       4942.500000   \n",
              "50%     9691.500000  5.618664e+09           32.000000       9954.500000   \n",
              "75%    14536.750000  7.843960e+09           47.000000     504327.000000   \n",
              "max    19382.000000  9.999873e+09           60.000000     999817.000000   \n",
              "\n",
              "       video_like_count  video_share_count  video_download_count  \\\n",
              "count      19084.000000       19084.000000          19084.000000   \n",
              "mean       84304.636030       16735.248323           1049.429627   \n",
              "std       133420.546814       32036.174350           2004.299894   \n",
              "min            0.000000           0.000000              0.000000   \n",
              "25%          810.750000         115.000000              7.000000   \n",
              "50%         3403.500000         717.000000             46.000000   \n",
              "75%       125020.000000       18222.000000           1156.250000   \n",
              "max       657830.000000      256130.000000          14994.000000   \n",
              "\n",
              "       video_comment_count  \n",
              "count         19084.000000  \n",
              "mean            349.312146  \n",
              "std             799.638865  \n",
              "min               0.000000  \n",
              "25%               1.000000  \n",
              "50%               9.000000  \n",
              "75%             292.000000  \n",
              "max            9599.000000  "
            ]
          },
          "execution_count": 7,
          "metadata": {},
          "output_type": "execute_result"
        }
      ],
      "source": [
        "# Generate basic descriptive stats\n",
        "data.describe()\n"
      ]
    },
    {
      "cell_type": "code",
      "execution_count": null,
      "metadata": {
        "id": "BrunHcfa7xnT",
        "outputId": "f9521d9b-10a1-4a67-aa1e-50f16f7d69f1"
      },
      "outputs": [
        {
          "data": {
            "text/plain": [
              "#                             0\n",
              "claim_status                298\n",
              "video_id                      0\n",
              "video_duration_sec            0\n",
              "video_transcription_text    298\n",
              "verified_status               0\n",
              "author_ban_status             0\n",
              "video_view_count            298\n",
              "video_like_count            298\n",
              "video_share_count           298\n",
              "video_download_count        298\n",
              "video_comment_count         298\n",
              "dtype: int64"
            ]
          },
          "execution_count": 8,
          "metadata": {},
          "output_type": "execute_result"
        }
      ],
      "source": [
        "# Check for missing values\n",
        "data.isnull().sum()\n"
      ]
    },
    {
      "cell_type": "code",
      "execution_count": null,
      "metadata": {
        "id": "SHSj1Hma914I"
      },
      "outputs": [],
      "source": [
        "# Drop rows with missing values\n",
        "data = data.dropna()\n"
      ]
    },
    {
      "cell_type": "code",
      "execution_count": null,
      "metadata": {
        "id": "ZYUF3xap9_Fa",
        "outputId": "c4beefeb-4b4b-42d2-c7c2-626303de4b88"
      },
      "outputs": [
        {
          "data": {
            "text/html": [
              "<div>\n",
              "<style scoped>\n",
              "    .dataframe tbody tr th:only-of-type {\n",
              "        vertical-align: middle;\n",
              "    }\n",
              "\n",
              "    .dataframe tbody tr th {\n",
              "        vertical-align: top;\n",
              "    }\n",
              "\n",
              "    .dataframe thead th {\n",
              "        text-align: right;\n",
              "    }\n",
              "</style>\n",
              "<table border=\"1\" class=\"dataframe\">\n",
              "  <thead>\n",
              "    <tr style=\"text-align: right;\">\n",
              "      <th></th>\n",
              "      <th>#</th>\n",
              "      <th>claim_status</th>\n",
              "      <th>video_id</th>\n",
              "      <th>video_duration_sec</th>\n",
              "      <th>video_transcription_text</th>\n",
              "      <th>verified_status</th>\n",
              "      <th>author_ban_status</th>\n",
              "      <th>video_view_count</th>\n",
              "      <th>video_like_count</th>\n",
              "      <th>video_share_count</th>\n",
              "      <th>video_download_count</th>\n",
              "      <th>video_comment_count</th>\n",
              "    </tr>\n",
              "  </thead>\n",
              "  <tbody>\n",
              "    <tr>\n",
              "      <th>0</th>\n",
              "      <td>1</td>\n",
              "      <td>claim</td>\n",
              "      <td>7017666017</td>\n",
              "      <td>59</td>\n",
              "      <td>someone shared with me that drone deliveries a...</td>\n",
              "      <td>not verified</td>\n",
              "      <td>under review</td>\n",
              "      <td>343296.0</td>\n",
              "      <td>19425.0</td>\n",
              "      <td>241.0</td>\n",
              "      <td>1.0</td>\n",
              "      <td>0.0</td>\n",
              "    </tr>\n",
              "    <tr>\n",
              "      <th>1</th>\n",
              "      <td>2</td>\n",
              "      <td>claim</td>\n",
              "      <td>4014381136</td>\n",
              "      <td>32</td>\n",
              "      <td>someone shared with me that there are more mic...</td>\n",
              "      <td>not verified</td>\n",
              "      <td>active</td>\n",
              "      <td>140877.0</td>\n",
              "      <td>77355.0</td>\n",
              "      <td>19034.0</td>\n",
              "      <td>1161.0</td>\n",
              "      <td>684.0</td>\n",
              "    </tr>\n",
              "    <tr>\n",
              "      <th>2</th>\n",
              "      <td>3</td>\n",
              "      <td>claim</td>\n",
              "      <td>9859838091</td>\n",
              "      <td>31</td>\n",
              "      <td>someone shared with me that american industria...</td>\n",
              "      <td>not verified</td>\n",
              "      <td>active</td>\n",
              "      <td>902185.0</td>\n",
              "      <td>97690.0</td>\n",
              "      <td>2858.0</td>\n",
              "      <td>833.0</td>\n",
              "      <td>329.0</td>\n",
              "    </tr>\n",
              "    <tr>\n",
              "      <th>3</th>\n",
              "      <td>4</td>\n",
              "      <td>claim</td>\n",
              "      <td>1866847991</td>\n",
              "      <td>25</td>\n",
              "      <td>someone shared with me that the metro of st. p...</td>\n",
              "      <td>not verified</td>\n",
              "      <td>active</td>\n",
              "      <td>437506.0</td>\n",
              "      <td>239954.0</td>\n",
              "      <td>34812.0</td>\n",
              "      <td>1234.0</td>\n",
              "      <td>584.0</td>\n",
              "    </tr>\n",
              "    <tr>\n",
              "      <th>4</th>\n",
              "      <td>5</td>\n",
              "      <td>claim</td>\n",
              "      <td>7105231098</td>\n",
              "      <td>19</td>\n",
              "      <td>someone shared with me that the number of busi...</td>\n",
              "      <td>not verified</td>\n",
              "      <td>active</td>\n",
              "      <td>56167.0</td>\n",
              "      <td>34987.0</td>\n",
              "      <td>4110.0</td>\n",
              "      <td>547.0</td>\n",
              "      <td>152.0</td>\n",
              "    </tr>\n",
              "  </tbody>\n",
              "</table>\n",
              "</div>"
            ],
            "text/plain": [
              "   # claim_status    video_id  video_duration_sec  \\\n",
              "0  1        claim  7017666017                  59   \n",
              "1  2        claim  4014381136                  32   \n",
              "2  3        claim  9859838091                  31   \n",
              "3  4        claim  1866847991                  25   \n",
              "4  5        claim  7105231098                  19   \n",
              "\n",
              "                            video_transcription_text verified_status  \\\n",
              "0  someone shared with me that drone deliveries a...    not verified   \n",
              "1  someone shared with me that there are more mic...    not verified   \n",
              "2  someone shared with me that american industria...    not verified   \n",
              "3  someone shared with me that the metro of st. p...    not verified   \n",
              "4  someone shared with me that the number of busi...    not verified   \n",
              "\n",
              "  author_ban_status  video_view_count  video_like_count  video_share_count  \\\n",
              "0      under review          343296.0           19425.0              241.0   \n",
              "1            active          140877.0           77355.0            19034.0   \n",
              "2            active          902185.0           97690.0             2858.0   \n",
              "3            active          437506.0          239954.0            34812.0   \n",
              "4            active           56167.0           34987.0             4110.0   \n",
              "\n",
              "   video_download_count  video_comment_count  \n",
              "0                   1.0                  0.0  \n",
              "1                1161.0                684.0  \n",
              "2                 833.0                329.0  \n",
              "3                1234.0                584.0  \n",
              "4                 547.0                152.0  "
            ]
          },
          "execution_count": 10,
          "metadata": {},
          "output_type": "execute_result"
        }
      ],
      "source": [
        "\n",
        "# Display first few rows after handling missing values\n",
        "data.head()\n"
      ]
    },
    {
      "cell_type": "code",
      "execution_count": null,
      "metadata": {
        "id": "IKaGnWIsiHpH",
        "outputId": "ff580b1d-22eb-4382-b12d-157983a7faf7"
      },
      "outputs": [
        {
          "data": {
            "text/plain": [
              "0"
            ]
          },
          "execution_count": 11,
          "metadata": {},
          "output_type": "execute_result"
        }
      ],
      "source": [
        "# Check for duplicates\n",
        "data.duplicated().sum()\n"
      ]
    },
    {
      "cell_type": "code",
      "execution_count": null,
      "metadata": {
        "id": "bZS2-0qEPbN6"
      },
      "outputs": [],
      "source": [
        "# Since tree-based models are not sensitive to extreme values,\n",
        "# we do not need to modify or remove any data points based on their position in the distribution.\n",
        "\n"
      ]
    },
    {
      "cell_type": "code",
      "execution_count": null,
      "metadata": {
        "id": "dQauKR11fyxb",
        "outputId": "547425d4-22f5-423f-e6c5-bb20d5592347"
      },
      "outputs": [
        {
          "name": "stdout",
          "output_type": "stream",
          "text": [
            "claim_status\n",
            "claim      9608\n",
            "opinion    9476\n",
            "Name: count, dtype: int64\n",
            "claim_status\n",
            "claim      0.503458\n",
            "opinion    0.496542\n",
            "Name: proportion, dtype: float64\n"
          ]
        }
      ],
      "source": [
        "# Check class balance\n",
        "print(data['claim_status'].value_counts())\n",
        "print(data['claim_status'].value_counts(normalize=True))\n",
        "\n"
      ]
    },
    {
      "cell_type": "code",
      "execution_count": null,
      "metadata": {
        "id": "7wNHb8zrbkFF"
      },
      "outputs": [],
      "source": [
        "# The target variable 'claim_status' is well balanced, with a nearly equal number of claims and opinions.\n",
        "# Therefore, no class balancing techniques are necessary at this stage.\n"
      ]
    },
    {
      "cell_type": "markdown",
      "metadata": {
        "id": "kD8TsZ8jqri0"
      },
      "source": [
        "## **PACE: Construct**\n"
      ]
    },
    {
      "cell_type": "markdown",
      "metadata": {
        "id": "8i0spBspquCr"
      },
      "source": [
        "### **Task 3: Feature engineering**"
      ]
    },
    {
      "cell_type": "code",
      "execution_count": null,
      "metadata": {
        "id": "8Yr9hhhVHeYY",
        "outputId": "7c3ebffb-9ed3-4339-f8e2-ffd001232818"
      },
      "outputs": [
        {
          "data": {
            "text/html": [
              "<div>\n",
              "<style scoped>\n",
              "    .dataframe tbody tr th:only-of-type {\n",
              "        vertical-align: middle;\n",
              "    }\n",
              "\n",
              "    .dataframe tbody tr th {\n",
              "        vertical-align: top;\n",
              "    }\n",
              "\n",
              "    .dataframe thead th {\n",
              "        text-align: right;\n",
              "    }\n",
              "</style>\n",
              "<table border=\"1\" class=\"dataframe\">\n",
              "  <thead>\n",
              "    <tr style=\"text-align: right;\">\n",
              "      <th></th>\n",
              "      <th>#</th>\n",
              "      <th>claim_status</th>\n",
              "      <th>video_id</th>\n",
              "      <th>video_duration_sec</th>\n",
              "      <th>video_transcription_text</th>\n",
              "      <th>verified_status</th>\n",
              "      <th>author_ban_status</th>\n",
              "      <th>video_view_count</th>\n",
              "      <th>video_like_count</th>\n",
              "      <th>video_share_count</th>\n",
              "      <th>video_download_count</th>\n",
              "      <th>video_comment_count</th>\n",
              "      <th>transcription_length</th>\n",
              "    </tr>\n",
              "  </thead>\n",
              "  <tbody>\n",
              "    <tr>\n",
              "      <th>0</th>\n",
              "      <td>1</td>\n",
              "      <td>claim</td>\n",
              "      <td>7017666017</td>\n",
              "      <td>59</td>\n",
              "      <td>someone shared with me that drone deliveries a...</td>\n",
              "      <td>not verified</td>\n",
              "      <td>under review</td>\n",
              "      <td>343296.0</td>\n",
              "      <td>19425.0</td>\n",
              "      <td>241.0</td>\n",
              "      <td>1.0</td>\n",
              "      <td>0.0</td>\n",
              "      <td>97</td>\n",
              "    </tr>\n",
              "    <tr>\n",
              "      <th>1</th>\n",
              "      <td>2</td>\n",
              "      <td>claim</td>\n",
              "      <td>4014381136</td>\n",
              "      <td>32</td>\n",
              "      <td>someone shared with me that there are more mic...</td>\n",
              "      <td>not verified</td>\n",
              "      <td>active</td>\n",
              "      <td>140877.0</td>\n",
              "      <td>77355.0</td>\n",
              "      <td>19034.0</td>\n",
              "      <td>1161.0</td>\n",
              "      <td>684.0</td>\n",
              "      <td>107</td>\n",
              "    </tr>\n",
              "    <tr>\n",
              "      <th>2</th>\n",
              "      <td>3</td>\n",
              "      <td>claim</td>\n",
              "      <td>9859838091</td>\n",
              "      <td>31</td>\n",
              "      <td>someone shared with me that american industria...</td>\n",
              "      <td>not verified</td>\n",
              "      <td>active</td>\n",
              "      <td>902185.0</td>\n",
              "      <td>97690.0</td>\n",
              "      <td>2858.0</td>\n",
              "      <td>833.0</td>\n",
              "      <td>329.0</td>\n",
              "      <td>137</td>\n",
              "    </tr>\n",
              "    <tr>\n",
              "      <th>3</th>\n",
              "      <td>4</td>\n",
              "      <td>claim</td>\n",
              "      <td>1866847991</td>\n",
              "      <td>25</td>\n",
              "      <td>someone shared with me that the metro of st. p...</td>\n",
              "      <td>not verified</td>\n",
              "      <td>active</td>\n",
              "      <td>437506.0</td>\n",
              "      <td>239954.0</td>\n",
              "      <td>34812.0</td>\n",
              "      <td>1234.0</td>\n",
              "      <td>584.0</td>\n",
              "      <td>131</td>\n",
              "    </tr>\n",
              "    <tr>\n",
              "      <th>4</th>\n",
              "      <td>5</td>\n",
              "      <td>claim</td>\n",
              "      <td>7105231098</td>\n",
              "      <td>19</td>\n",
              "      <td>someone shared with me that the number of busi...</td>\n",
              "      <td>not verified</td>\n",
              "      <td>active</td>\n",
              "      <td>56167.0</td>\n",
              "      <td>34987.0</td>\n",
              "      <td>4110.0</td>\n",
              "      <td>547.0</td>\n",
              "      <td>152.0</td>\n",
              "      <td>128</td>\n",
              "    </tr>\n",
              "  </tbody>\n",
              "</table>\n",
              "</div>"
            ],
            "text/plain": [
              "   # claim_status    video_id  video_duration_sec  \\\n",
              "0  1        claim  7017666017                  59   \n",
              "1  2        claim  4014381136                  32   \n",
              "2  3        claim  9859838091                  31   \n",
              "3  4        claim  1866847991                  25   \n",
              "4  5        claim  7105231098                  19   \n",
              "\n",
              "                            video_transcription_text verified_status  \\\n",
              "0  someone shared with me that drone deliveries a...    not verified   \n",
              "1  someone shared with me that there are more mic...    not verified   \n",
              "2  someone shared with me that american industria...    not verified   \n",
              "3  someone shared with me that the metro of st. p...    not verified   \n",
              "4  someone shared with me that the number of busi...    not verified   \n",
              "\n",
              "  author_ban_status  video_view_count  video_like_count  video_share_count  \\\n",
              "0      under review          343296.0           19425.0              241.0   \n",
              "1            active          140877.0           77355.0            19034.0   \n",
              "2            active          902185.0           97690.0             2858.0   \n",
              "3            active          437506.0          239954.0            34812.0   \n",
              "4            active           56167.0           34987.0             4110.0   \n",
              "\n",
              "   video_download_count  video_comment_count  transcription_length  \n",
              "0                   1.0                  0.0                    97  \n",
              "1                1161.0                684.0                   107  \n",
              "2                 833.0                329.0                   137  \n",
              "3                1234.0                584.0                   131  \n",
              "4                 547.0                152.0                   128  "
            ]
          },
          "execution_count": 13,
          "metadata": {},
          "output_type": "execute_result"
        }
      ],
      "source": [
        "# Extract the length of each `video_transcription_text` and add this as a column to the dataframe\n",
        "data['transcription_length'] = data['video_transcription_text'].apply(len)\n",
        "data.head()\n"
      ]
    },
    {
      "cell_type": "code",
      "execution_count": null,
      "metadata": {
        "id": "Vzg0J8UEJ1wx",
        "outputId": "bd8aa8de-8270-4d7d-975f-358ccd2e916f"
      },
      "outputs": [
        {
          "data": {
            "text/plain": [
              "claim_status\n",
              "claim      95.376978\n",
              "opinion    82.722562\n",
              "Name: transcription_length, dtype: float64"
            ]
          },
          "execution_count": 14,
          "metadata": {},
          "output_type": "execute_result"
        }
      ],
      "source": [
        "# Calculate the average text_length for claims and opinions\n",
        "data.groupby('claim_status')['transcription_length'].mean()\n",
        "\n"
      ]
    },
    {
      "cell_type": "code",
      "execution_count": null,
      "metadata": {
        "id": "MSq136S3TIYe",
        "outputId": "2298b64b-8c83-4714-e43c-6c9dda7e71c5"
      },
      "outputs": [
        {
          "data": {
            "image/png": "[encoded data removed]",
            "text/plain": [
              "<Figure size 640x480 with 1 Axes>"
            ]
          },
          "metadata": {},
          "output_type": "display_data"
        }
      ],
      "source": [
        "# Visualize the distribution of `text_length` for claims and opinions\n",
        "# Create two histograms in one plot\n",
        "\n",
        "sns.histplot(data=data, stat=\"count\", multiple=\"dodge\", x=\"transcription_length\",\n",
        "             kde=False, palette=\"pastel\", hue=\"claim_status\",\n",
        "             element=\"bars\", legend=True)\n",
        "plt.xlabel(\"Transcription Length (characters)\")\n",
        "plt.ylabel(\"Count\")\n",
        "plt.title(\"Distribution of Transcription Length for Claims and Opinions\")\n",
        "plt.show()\n",
        "\n"
      ]
    },
    {
      "cell_type": "code",
      "execution_count": null,
      "metadata": {
        "id": "rSheeufFbkFN"
      },
      "outputs": [],
      "source": [
        "This confirms that transcription length is a useful predictor — claims tend to contain more characters than opinions, suggesting more detailed or complex content."
      ]
    },
    {
      "cell_type": "markdown",
      "metadata": {
        "id": "vddLGidnbkFN"
      },
      "source": [
        "**Feature selection and transformation**"
      ]
    },
    {
      "cell_type": "markdown",
      "metadata": {
        "id": "GfCsmm7rbkFN"
      },
      "source": [
        "Encode target and catgorical variables."
      ]
    },
    {
      "cell_type": "code",
      "execution_count": null,
      "metadata": {
        "id": "Mw8ZChGcbkFN",
        "outputId": "fb28d1d3-0c74-4720-bee5-545586a7e309"
      },
      "outputs": [
        {
          "data": {
            "text/html": [
              "<div>\n",
              "<style scoped>\n",
              "    .dataframe tbody tr th:only-of-type {\n",
              "        vertical-align: middle;\n",
              "    }\n",
              "\n",
              "    .dataframe tbody tr th {\n",
              "        vertical-align: top;\n",
              "    }\n",
              "\n",
              "    .dataframe thead th {\n",
              "        text-align: right;\n",
              "    }\n",
              "</style>\n",
              "<table border=\"1\" class=\"dataframe\">\n",
              "  <thead>\n",
              "    <tr style=\"text-align: right;\">\n",
              "      <th></th>\n",
              "      <th>claim_status</th>\n",
              "      <th>video_duration_sec</th>\n",
              "      <th>video_transcription_text</th>\n",
              "      <th>video_view_count</th>\n",
              "      <th>video_like_count</th>\n",
              "      <th>video_share_count</th>\n",
              "      <th>video_download_count</th>\n",
              "      <th>video_comment_count</th>\n",
              "      <th>transcription_length</th>\n",
              "      <th>verified_status_verified</th>\n",
              "      <th>author_ban_status_banned</th>\n",
              "      <th>author_ban_status_under review</th>\n",
              "    </tr>\n",
              "  </thead>\n",
              "  <tbody>\n",
              "    <tr>\n",
              "      <th>0</th>\n",
              "      <td>1</td>\n",
              "      <td>59</td>\n",
              "      <td>someone shared with me that drone deliveries a...</td>\n",
              "      <td>343296.0</td>\n",
              "      <td>19425.0</td>\n",
              "      <td>241.0</td>\n",
              "      <td>1.0</td>\n",
              "      <td>0.0</td>\n",
              "      <td>97</td>\n",
              "      <td>False</td>\n",
              "      <td>False</td>\n",
              "      <td>True</td>\n",
              "    </tr>\n",
              "    <tr>\n",
              "      <th>1</th>\n",
              "      <td>1</td>\n",
              "      <td>32</td>\n",
              "      <td>someone shared with me that there are more mic...</td>\n",
              "      <td>140877.0</td>\n",
              "      <td>77355.0</td>\n",
              "      <td>19034.0</td>\n",
              "      <td>1161.0</td>\n",
              "      <td>684.0</td>\n",
              "      <td>107</td>\n",
              "      <td>False</td>\n",
              "      <td>False</td>\n",
              "      <td>False</td>\n",
              "    </tr>\n",
              "    <tr>\n",
              "      <th>2</th>\n",
              "      <td>1</td>\n",
              "      <td>31</td>\n",
              "      <td>someone shared with me that american industria...</td>\n",
              "      <td>902185.0</td>\n",
              "      <td>97690.0</td>\n",
              "      <td>2858.0</td>\n",
              "      <td>833.0</td>\n",
              "      <td>329.0</td>\n",
              "      <td>137</td>\n",
              "      <td>False</td>\n",
              "      <td>False</td>\n",
              "      <td>False</td>\n",
              "    </tr>\n",
              "    <tr>\n",
              "      <th>3</th>\n",
              "      <td>1</td>\n",
              "      <td>25</td>\n",
              "      <td>someone shared with me that the metro of st. p...</td>\n",
              "      <td>437506.0</td>\n",
              "      <td>239954.0</td>\n",
              "      <td>34812.0</td>\n",
              "      <td>1234.0</td>\n",
              "      <td>584.0</td>\n",
              "      <td>131</td>\n",
              "      <td>False</td>\n",
              "      <td>False</td>\n",
              "      <td>False</td>\n",
              "    </tr>\n",
              "    <tr>\n",
              "      <th>4</th>\n",
              "      <td>1</td>\n",
              "      <td>19</td>\n",
              "      <td>someone shared with me that the number of busi...</td>\n",
              "      <td>56167.0</td>\n",
              "      <td>34987.0</td>\n",
              "      <td>4110.0</td>\n",
              "      <td>547.0</td>\n",
              "      <td>152.0</td>\n",
              "      <td>128</td>\n",
              "      <td>False</td>\n",
              "      <td>False</td>\n",
              "      <td>False</td>\n",
              "    </tr>\n",
              "  </tbody>\n",
              "</table>\n",
              "</div>"
            ],
            "text/plain": [
              "   claim_status  video_duration_sec  \\\n",
              "0             1                  59   \n",
              "1             1                  32   \n",
              "2             1                  31   \n",
              "3             1                  25   \n",
              "4             1                  19   \n",
              "\n",
              "                            video_transcription_text  video_view_count  \\\n",
              "0  someone shared with me that drone deliveries a...          343296.0   \n",
              "1  someone shared with me that there are more mic...          140877.0   \n",
              "2  someone shared with me that american industria...          902185.0   \n",
              "3  someone shared with me that the metro of st. p...          437506.0   \n",
              "4  someone shared with me that the number of busi...           56167.0   \n",
              "\n",
              "   video_like_count  video_share_count  video_download_count  \\\n",
              "0           19425.0              241.0                   1.0   \n",
              "1           77355.0            19034.0                1161.0   \n",
              "2           97690.0             2858.0                 833.0   \n",
              "3          239954.0            34812.0                1234.0   \n",
              "4           34987.0             4110.0                 547.0   \n",
              "\n",
              "   video_comment_count  transcription_length  verified_status_verified  \\\n",
              "0                  0.0                    97                     False   \n",
              "1                684.0                   107                     False   \n",
              "2                329.0                   137                     False   \n",
              "3                584.0                   131                     False   \n",
              "4                152.0                   128                     False   \n",
              "\n",
              "   author_ban_status_banned  author_ban_status_under review  \n",
              "0                     False                            True  \n",
              "1                     False                           False  \n",
              "2                     False                           False  \n",
              "3                     False                           False  \n",
              "4                     False                           False  "
            ]
          },
          "execution_count": 16,
          "metadata": {},
          "output_type": "execute_result"
        }
      ],
      "source": [
        "# Create a copy of the dataset\n",
        "X = data.copy()\n",
        "\n",
        "# Drop unnecessary columns\n",
        "X = X.drop(columns=['#', 'video_id'])\n",
        "\n",
        "# Encode target variable: convert 'claim' to 1 and 'opinion' to 0\n",
        "X['claim_status'] = X['claim_status'].replace({'opinion': 0, 'claim': 1})\n",
        "\n",
        "# Dummy encode categorical variables\n",
        "X = pd.get_dummies(X, columns=['verified_status', 'author_ban_status'], drop_first=True)\n",
        "\n",
        "# Preview the transformed data\n",
        "X.head()\n"
      ]
    },
    {
      "cell_type": "markdown",
      "metadata": {
        "id": "6frX3ATWZVgL"
      },
      "source": [
        "### **Task 4: Split the data**"
      ]
    },
    {
      "cell_type": "markdown",
      "metadata": {
        "id": "ImSr6suUbkFN"
      },
      "source": [
        "Assign target variable."
      ]
    },
    {
      "cell_type": "code",
      "execution_count": null,
      "metadata": {
        "id": "MqjlsbuqbkFO"
      },
      "outputs": [],
      "source": [
        "# Isolate target variable\n",
        "y = X['claim_status']\n"
      ]
    },
    {
      "cell_type": "markdown",
      "metadata": {
        "id": "C2fh3jh9bkFO"
      },
      "source": [
        "Isolate the features."
      ]
    },
    {
      "cell_type": "code",
      "execution_count": null,
      "metadata": {
        "id": "qceEa3ALbkFO",
        "outputId": "b5718fcb-3ef3-4d36-e30a-d99c804fcf0f"
      },
      "outputs": [
        {
          "name": "stdout",
          "output_type": "stream",
          "text": [
            "X shape: (19084, 11)\n",
            "y shape: (19084,)\n"
          ]
        },
        {
          "data": {
            "text/html": [
              "<div>\n",
              "<style scoped>\n",
              "    .dataframe tbody tr th:only-of-type {\n",
              "        vertical-align: middle;\n",
              "    }\n",
              "\n",
              "    .dataframe tbody tr th {\n",
              "        vertical-align: top;\n",
              "    }\n",
              "\n",
              "    .dataframe thead th {\n",
              "        text-align: right;\n",
              "    }\n",
              "</style>\n",
              "<table border=\"1\" class=\"dataframe\">\n",
              "  <thead>\n",
              "    <tr style=\"text-align: right;\">\n",
              "      <th></th>\n",
              "      <th>video_duration_sec</th>\n",
              "      <th>video_transcription_text</th>\n",
              "      <th>video_view_count</th>\n",
              "      <th>video_like_count</th>\n",
              "      <th>video_share_count</th>\n",
              "      <th>video_download_count</th>\n",
              "      <th>video_comment_count</th>\n",
              "      <th>transcription_length</th>\n",
              "      <th>verified_status_verified</th>\n",
              "      <th>author_ban_status_banned</th>\n",
              "      <th>author_ban_status_under review</th>\n",
              "    </tr>\n",
              "  </thead>\n",
              "  <tbody>\n",
              "    <tr>\n",
              "      <th>0</th>\n",
              "      <td>59</td>\n",
              "      <td>someone shared with me that drone deliveries a...</td>\n",
              "      <td>343296.0</td>\n",
              "      <td>19425.0</td>\n",
              "      <td>241.0</td>\n",
              "      <td>1.0</td>\n",
              "      <td>0.0</td>\n",
              "      <td>97</td>\n",
              "      <td>False</td>\n",
              "      <td>False</td>\n",
              "      <td>True</td>\n",
              "    </tr>\n",
              "    <tr>\n",
              "      <th>1</th>\n",
              "      <td>32</td>\n",
              "      <td>someone shared with me that there are more mic...</td>\n",
              "      <td>140877.0</td>\n",
              "      <td>77355.0</td>\n",
              "      <td>19034.0</td>\n",
              "      <td>1161.0</td>\n",
              "      <td>684.0</td>\n",
              "      <td>107</td>\n",
              "      <td>False</td>\n",
              "      <td>False</td>\n",
              "      <td>False</td>\n",
              "    </tr>\n",
              "    <tr>\n",
              "      <th>2</th>\n",
              "      <td>31</td>\n",
              "      <td>someone shared with me that american industria...</td>\n",
              "      <td>902185.0</td>\n",
              "      <td>97690.0</td>\n",
              "      <td>2858.0</td>\n",
              "      <td>833.0</td>\n",
              "      <td>329.0</td>\n",
              "      <td>137</td>\n",
              "      <td>False</td>\n",
              "      <td>False</td>\n",
              "      <td>False</td>\n",
              "    </tr>\n",
              "    <tr>\n",
              "      <th>3</th>\n",
              "      <td>25</td>\n",
              "      <td>someone shared with me that the metro of st. p...</td>\n",
              "      <td>437506.0</td>\n",
              "      <td>239954.0</td>\n",
              "      <td>34812.0</td>\n",
              "      <td>1234.0</td>\n",
              "      <td>584.0</td>\n",
              "      <td>131</td>\n",
              "      <td>False</td>\n",
              "      <td>False</td>\n",
              "      <td>False</td>\n",
              "    </tr>\n",
              "    <tr>\n",
              "      <th>4</th>\n",
              "      <td>19</td>\n",
              "      <td>someone shared with me that the number of busi...</td>\n",
              "      <td>56167.0</td>\n",
              "      <td>34987.0</td>\n",
              "      <td>4110.0</td>\n",
              "      <td>547.0</td>\n",
              "      <td>152.0</td>\n",
              "      <td>128</td>\n",
              "      <td>False</td>\n",
              "      <td>False</td>\n",
              "      <td>False</td>\n",
              "    </tr>\n",
              "  </tbody>\n",
              "</table>\n",
              "</div>"
            ],
            "text/plain": [
              "   video_duration_sec                           video_transcription_text  \\\n",
              "0                  59  someone shared with me that drone deliveries a...   \n",
              "1                  32  someone shared with me that there are more mic...   \n",
              "2                  31  someone shared with me that american industria...   \n",
              "3                  25  someone shared with me that the metro of st. p...   \n",
              "4                  19  someone shared with me that the number of busi...   \n",
              "\n",
              "   video_view_count  video_like_count  video_share_count  \\\n",
              "0          343296.0           19425.0              241.0   \n",
              "1          140877.0           77355.0            19034.0   \n",
              "2          902185.0           97690.0             2858.0   \n",
              "3          437506.0          239954.0            34812.0   \n",
              "4           56167.0           34987.0             4110.0   \n",
              "\n",
              "   video_download_count  video_comment_count  transcription_length  \\\n",
              "0                   1.0                  0.0                    97   \n",
              "1                1161.0                684.0                   107   \n",
              "2                 833.0                329.0                   137   \n",
              "3                1234.0                584.0                   131   \n",
              "4                 547.0                152.0                   128   \n",
              "\n",
              "   verified_status_verified  author_ban_status_banned  \\\n",
              "0                     False                     False   \n",
              "1                     False                     False   \n",
              "2                     False                     False   \n",
              "3                     False                     False   \n",
              "4                     False                     False   \n",
              "\n",
              "   author_ban_status_under review  \n",
              "0                            True  \n",
              "1                           False  \n",
              "2                           False  \n",
              "3                           False  \n",
              "4                           False  "
            ]
          },
          "execution_count": 18,
          "metadata": {},
          "output_type": "execute_result"
        }
      ],
      "source": [
        "# Isolate the features (drop the target column)\n",
        "X = X.drop(columns=['claim_status'])\n",
        "\n",
        "# Confirm structure\n",
        "print(f\"X shape: {X.shape}\")\n",
        "print(f\"y shape: {y.shape}\")\n",
        "\n",
        "# Display first few rows of features dataframe\n",
        "X.head()\n"
      ]
    },
    {
      "cell_type": "markdown",
      "metadata": {
        "id": "DmcdzIPYbkFO"
      },
      "source": [
        "#### **Task 5: Create train/validate/test sets**"
      ]
    },
    {
      "cell_type": "code",
      "execution_count": null,
      "metadata": {
        "id": "D5OpxNZYOISV"
      },
      "outputs": [],
      "source": [
        "# Split the data into 80% training and 20% testing\n",
        "X_train, X_test, y_train, y_test = train_test_split(\n",
        "    X, y, test_size=0.2, random_state=42\n",
        ")\n"
      ]
    },
    {
      "cell_type": "markdown",
      "metadata": {
        "id": "rbpnEjop82zL"
      },
      "source": [
        "Split the training set into training and validation sets, 75/25, to result in a final ratio of 60/20/20 for train/validate/test sets."
      ]
    },
    {
      "cell_type": "code",
      "execution_count": null,
      "metadata": {
        "id": "A9O-DjLxOJvT"
      },
      "outputs": [],
      "source": [
        "# Split the training data into training and validation sets (75/25 of the original 80%)\n",
        "X_train_final, X_val, y_train_final, y_val = train_test_split(\n",
        "    X_train, y_train, test_size=0.25, random_state=42\n",
        ")\n"
      ]
    },
    {
      "cell_type": "markdown",
      "metadata": {
        "id": "tJ60GPLdOMXr"
      },
      "source": [
        "Confirm that the dimensions of the training, validation, and testing sets are in alignment."
      ]
    },
    {
      "cell_type": "code",
      "execution_count": null,
      "metadata": {
        "id": "TefBRXUu8zWR",
        "outputId": "d0a6c8ff-b2c8-4fa1-afb7-89d270b74533"
      },
      "outputs": [
        {
          "name": "stdout",
          "output_type": "stream",
          "text": [
            "Train set: (11450, 11) (11450,)\n",
            "Validation set: (3817, 11) (3817,)\n",
            "Test set: (3817, 11) (3817,)\n"
          ]
        }
      ],
      "source": [
        "# Get shape of each training, validation, and testing set\n",
        "print(\"Train set:\", X_train_final.shape, y_train_final.shape)\n",
        "print(\"Validation set:\", X_val.shape, y_val.shape)\n",
        "print(\"Test set:\", X_test.shape, y_test.shape)\n",
        "\n"
      ]
    },
    {
      "cell_type": "code",
      "execution_count": null,
      "metadata": {
        "id": "lVPdRj6WbkFP",
        "outputId": "9ffeab3e-e35b-4c16-d219-8961697117fb"
      },
      "outputs": [
        {
          "name": "stdout",
          "output_type": "stream",
          "text": [
            "Train final shape: (11450, 25)\n",
            "Validation final shape: (3817, 25)\n",
            "Test final shape: (3817, 25)\n"
          ]
        }
      ],
      "source": [
        "from sklearn.feature_extraction.text import CountVectorizer\n",
        "\n",
        "# Step 1: Set up CountVectorizer with 2-grams and 3-grams, keeping the top 15 most frequent ones\n",
        "count_vec = CountVectorizer(ngram_range=(2, 3), max_features=15, stop_words='english')\n",
        "\n",
        "# Step 2: Fit the vectorizer on the training set and transform it\n",
        "train_ngrams = count_vec.fit_transform(X_train_final['video_transcription_text']).toarray()\n",
        "train_ngrams_df = pd.DataFrame(train_ngrams, columns=count_vec.get_feature_names_out())\n",
        "\n",
        "# Step 3: Drop the original text column and concatenate n-gram features with training data\n",
        "X_train_final = pd.concat([\n",
        "    X_train_final.drop(columns=['video_transcription_text']).reset_index(drop=True),\n",
        "    train_ngrams_df\n",
        "], axis=1)\n",
        "\n",
        "# Step 4: Transform the validation set using the same vectorizer (do NOT fit again)\n",
        "val_ngrams = count_vec.transform(X_val['video_transcription_text']).toarray()\n",
        "val_ngrams_df = pd.DataFrame(val_ngrams, columns=count_vec.get_feature_names_out())\n",
        "\n",
        "X_val_final = pd.concat([\n",
        "    X_val.drop(columns=['video_transcription_text']).reset_index(drop=True),\n",
        "    val_ngrams_df\n",
        "], axis=1)\n",
        "\n",
        "# Step 5: Transform the test set using the same vectorizer (do NOT fit again)\n",
        "test_ngrams = count_vec.transform(X_test['video_transcription_text']).toarray()\n",
        "test_ngrams_df = pd.DataFrame(test_ngrams, columns=count_vec.get_feature_names_out())\n",
        "\n",
        "X_test_final = pd.concat([\n",
        "    X_test.drop(columns=['video_transcription_text']).reset_index(drop=True),\n",
        "    test_ngrams_df\n",
        "], axis=1)\n",
        "\n",
        "# Step 6: Check the final shapes of the datasets\n",
        "print(\"Train final shape:\", X_train_final.shape)\n",
        "print(\"Validation final shape:\", X_val_final.shape)\n",
        "print(\"Test final shape:\", X_test_final.shape)\n",
        "\n",
        "\n",
        "\n"
      ]
    },
    {
      "cell_type": "markdown",
      "metadata": {
        "id": "3_es-Jh1atUz"
      },
      "source": [
        "### **Task 6. Build models**\n"
      ]
    },
    {
      "cell_type": "markdown",
      "metadata": {
        "id": "HdBwwccoP0SU"
      },
      "source": [
        "### **Build a random forest model**"
      ]
    },
    {
      "cell_type": "markdown",
      "metadata": {
        "id": "ty8ieBkDBH4g"
      },
      "source": [
        "Fit a random forest model to the training set. Use cross-validation to tune the hyperparameters and select the model that performs best on recall."
      ]
    },
    {
      "cell_type": "code",
      "execution_count": null,
      "metadata": {
        "id": "sNcke2SNvZrN"
      },
      "outputs": [],
      "source": [
        "# Instantiate the random forest classifier\n",
        "rf = RandomForestClassifier(random_state=42)\n",
        "\n",
        "# Create a dictionary of hyperparameters to tune\n",
        "param_grid = {\n",
        "    'n_estimators': [100, 200],        # Number of trees in the forest\n",
        "    'max_depth': [None, 10, 20],       # Max depth of each tree\n",
        "    'min_samples_split': [2, 5],       # Minimum number of samples required to split an internal node\n",
        "    'min_samples_leaf': [1, 2]         # Minimum number of samples required to be at a leaf node\n",
        "}\n",
        "\n",
        "# Define a list of scoring metrics to capture\n",
        "scoring = ['accuracy', 'precision', 'recall', 'f1']  # Multiple evaluation metrics\n",
        "\n",
        "# Instantiate the GridSearchCV object with recall as the refit metric\n",
        "grid_search = GridSearchCV(\n",
        "    estimator=rf,                     # Model to tune\n",
        "    param_grid=param_grid,           # Hyperparameters grid\n",
        "    scoring=scoring,                 # Scoring metrics\n",
        "    refit='recall',                  # Optimize for recall\n",
        "    cv=5,                            # 5-fold cross-validation\n",
        "    n_jobs=-1,                       # Use all available processors\n",
        "    verbose=1                        # Display progress\n",
        ")\n"
      ]
    },
    {
      "cell_type": "code",
      "execution_count": null,
      "metadata": {
        "id": "phUnQmmybkFP",
        "outputId": "ffba15a4-6cb1-4c81-ed6e-5c712c360862"
      },
      "outputs": [
        {
          "name": "stdout",
          "output_type": "stream",
          "text": [
            "Fitting 5 folds for each of 24 candidates, totalling 120 fits\n"
          ]
        },
        {
          "data": {
            "text/html": [
              "<style>#sk-container-id-1 {color: black;}#sk-container-id-1 pre{padding: 0;}#sk-container-id-1 div.sk-toggleable {background-color: white;}#sk-container-id-1 label.sk-toggleable__label {cursor: pointer;display: block;width: 100%;margin-bottom: 0;padding: 0.3em;box-sizing: border-box;text-align: center;}#sk-container-id-1 label.sk-toggleable__label-arrow:before {content: \"▸\";float: left;margin-right: 0.25em;color: #696969;}#sk-container-id-1 label.sk-toggleable__label-arrow:hover:before {color: black;}#sk-container-id-1 div.sk-estimator:hover label.sk-toggleable__label-arrow:before {color: black;}#sk-container-id-1 div.sk-toggleable__content {max-height: 0;max-width: 0;overflow: hidden;text-align: left;background-color: #f0f8ff;}#sk-container-id-1 div.sk-toggleable__content pre {margin: 0.2em;color: black;border-radius: 0.25em;background-color: #f0f8ff;}#sk-container-id-1 input.sk-toggleable__control:checked~div.sk-toggleable__content {max-height: 200px;max-width: 100%;overflow: auto;}#sk-container-id-1 input.sk-toggleable__control:checked~label.sk-toggleable__label-arrow:before {content: \"▾\";}#sk-container-id-1 div.sk-estimator input.sk-toggleable__control:checked~label.sk-toggleable__label {background-color: #d4ebff;}#sk-container-id-1 div.sk-label input.sk-toggleable__control:checked~label.sk-toggleable__label {background-color: #d4ebff;}#sk-container-id-1 input.sk-hidden--visually {border: 0;clip: rect(1px 1px 1px 1px);clip: rect(1px, 1px, 1px, 1px);height: 1px;margin: -1px;overflow: hidden;padding: 0;position: absolute;width: 1px;}#sk-container-id-1 div.sk-estimator {font-family: monospace;background-color: #f0f8ff;border: 1px dotted black;border-radius: 0.25em;box-sizing: border-box;margin-bottom: 0.5em;}#sk-container-id-1 div.sk-estimator:hover {background-color: #d4ebff;}#sk-container-id-1 div.sk-parallel-item::after {content: \"\";width: 100%;border-bottom: 1px solid gray;flex-grow: 1;}#sk-container-id-1 div.sk-label:hover label.sk-toggleable__label {background-color: #d4ebff;}#sk-container-id-1 div.sk-serial::before {content: \"\";position: absolute;border-left: 1px solid gray;box-sizing: border-box;top: 0;bottom: 0;left: 50%;z-index: 0;}#sk-container-id-1 div.sk-serial {display: flex;flex-direction: column;align-items: center;background-color: white;padding-right: 0.2em;padding-left: 0.2em;position: relative;}#sk-container-id-1 div.sk-item {position: relative;z-index: 1;}#sk-container-id-1 div.sk-parallel {display: flex;align-items: stretch;justify-content: center;background-color: white;position: relative;}#sk-container-id-1 div.sk-item::before, #sk-container-id-1 div.sk-parallel-item::before {content: \"\";position: absolute;border-left: 1px solid gray;box-sizing: border-box;top: 0;bottom: 0;left: 50%;z-index: -1;}#sk-container-id-1 div.sk-parallel-item {display: flex;flex-direction: column;z-index: 1;position: relative;background-color: white;}#sk-container-id-1 div.sk-parallel-item:first-child::after {align-self: flex-end;width: 50%;}#sk-container-id-1 div.sk-parallel-item:last-child::after {align-self: flex-start;width: 50%;}#sk-container-id-1 div.sk-parallel-item:only-child::after {width: 0;}#sk-container-id-1 div.sk-dashed-wrapped {border: 1px dashed gray;margin: 0 0.4em 0.5em 0.4em;box-sizing: border-box;padding-bottom: 0.4em;background-color: white;}#sk-container-id-1 div.sk-label label {font-family: monospace;font-weight: bold;display: inline-block;line-height: 1.2em;}#sk-container-id-1 div.sk-label-container {text-align: center;}#sk-container-id-1 div.sk-container {/* jupyter's `normalize.less` sets `[hidden] { display: none; }` but bootstrap.min.css set `[hidden] { display: none !important; }` so we also need the `!important` here to be able to override the default hidden behavior on the sphinx rendered scikit-learn.org. See: https://github.com/scikit-learn/scikit-learn/issues/21755 */display: inline-block !important;position: relative;}#sk-container-id-1 div.sk-text-repr-fallback {display: none;}</style><div id=\"sk-container-id-1\" class=\"sk-top-container\"><div class=\"sk-text-repr-fallback\"><pre>GridSearchCV(cv=5, estimator=RandomForestClassifier(random_state=42), n_jobs=-1,\n",
              "             param_grid={&#x27;max_depth&#x27;: [None, 10, 20],\n",
              "                         &#x27;min_samples_leaf&#x27;: [1, 2],\n",
              "                         &#x27;min_samples_split&#x27;: [2, 5],\n",
              "                         &#x27;n_estimators&#x27;: [100, 200]},\n",
              "             refit=&#x27;recall&#x27;, scoring=[&#x27;accuracy&#x27;, &#x27;precision&#x27;, &#x27;recall&#x27;, &#x27;f1&#x27;],\n",
              "             verbose=1)</pre><b>In a Jupyter environment, please rerun this cell to show the HTML representation or trust the notebook. <br />On GitHub, the HTML representation is unable to render, please try loading this page with nbviewer.org.</b></div><div class=\"sk-container\" hidden><div class=\"sk-item sk-dashed-wrapped\"><div class=\"sk-label-container\"><div class=\"sk-label sk-toggleable\"><input class=\"sk-toggleable__control sk-hidden--visually\" id=\"sk-estimator-id-1\" type=\"checkbox\" ><label for=\"sk-estimator-id-1\" class=\"sk-toggleable__label sk-toggleable__label-arrow\">GridSearchCV</label><div class=\"sk-toggleable__content\"><pre>GridSearchCV(cv=5, estimator=RandomForestClassifier(random_state=42), n_jobs=-1,\n",
              "             param_grid={&#x27;max_depth&#x27;: [None, 10, 20],\n",
              "                         &#x27;min_samples_leaf&#x27;: [1, 2],\n",
              "                         &#x27;min_samples_split&#x27;: [2, 5],\n",
              "                         &#x27;n_estimators&#x27;: [100, 200]},\n",
              "             refit=&#x27;recall&#x27;, scoring=[&#x27;accuracy&#x27;, &#x27;precision&#x27;, &#x27;recall&#x27;, &#x27;f1&#x27;],\n",
              "             verbose=1)</pre></div></div></div><div class=\"sk-parallel\"><div class=\"sk-parallel-item\"><div class=\"sk-item\"><div class=\"sk-label-container\"><div class=\"sk-label sk-toggleable\"><input class=\"sk-toggleable__control sk-hidden--visually\" id=\"sk-estimator-id-2\" type=\"checkbox\" ><label for=\"sk-estimator-id-2\" class=\"sk-toggleable__label sk-toggleable__label-arrow\">estimator: RandomForestClassifier</label><div class=\"sk-toggleable__content\"><pre>RandomForestClassifier(random_state=42)</pre></div></div></div><div class=\"sk-serial\"><div class=\"sk-item\"><div class=\"sk-estimator sk-toggleable\"><input class=\"sk-toggleable__control sk-hidden--visually\" id=\"sk-estimator-id-3\" type=\"checkbox\" ><label for=\"sk-estimator-id-3\" class=\"sk-toggleable__label sk-toggleable__label-arrow\">RandomForestClassifier</label><div class=\"sk-toggleable__content\"><pre>RandomForestClassifier(random_state=42)</pre></div></div></div></div></div></div></div></div></div></div>"
            ],
            "text/plain": [
              "GridSearchCV(cv=5, estimator=RandomForestClassifier(random_state=42), n_jobs=-1,\n",
              "             param_grid={'max_depth': [None, 10, 20],\n",
              "                         'min_samples_leaf': [1, 2],\n",
              "                         'min_samples_split': [2, 5],\n",
              "                         'n_estimators': [100, 200]},\n",
              "             refit='recall', scoring=['accuracy', 'precision', 'recall', 'f1'],\n",
              "             verbose=1)"
            ]
          },
          "execution_count": 24,
          "metadata": {},
          "output_type": "execute_result"
        }
      ],
      "source": [
        "### Fit the model to the data\n",
        "grid_search.fit(X_train_final, y_train_final)\n",
        "\n"
      ]
    },
    {
      "cell_type": "code",
      "execution_count": null,
      "metadata": {
        "id": "ZG3B_POzPh1s",
        "outputId": "d0a879d6-ecad-41c1-e615-16797500f67e"
      },
      "outputs": [
        {
          "name": "stdout",
          "output_type": "stream",
          "text": [
            "Best recall score from cross-validation: 0.9956881675641902\n"
          ]
        }
      ],
      "source": [
        "# Examine best recall score from cross-validation\n",
        "best_recall = grid_search.best_score_\n",
        "print(\"Best recall score from cross-validation:\", best_recall)\n",
        "\n",
        "\n"
      ]
    },
    {
      "cell_type": "code",
      "execution_count": null,
      "metadata": {
        "id": "-qzIDhk-Pq62",
        "outputId": "a77f1826-123c-4d4d-b599-645e7ac3b811"
      },
      "outputs": [
        {
          "name": "stdout",
          "output_type": "stream",
          "text": [
            "Best parameters found: {'max_depth': None, 'min_samples_leaf': 1, 'min_samples_split': 2, 'n_estimators': 200}\n"
          ]
        }
      ],
      "source": [
        "# Display best parameters found by GridSearchCV\n",
        "best_params = grid_search.best_params_\n",
        "print(\"Best parameters found:\", best_params)\n",
        "\n"
      ]
    },
    {
      "cell_type": "code",
      "execution_count": null,
      "metadata": {
        "id": "vrCoIhUvbkFQ",
        "outputId": "0d014f51-ae4b-4ec8-9d8a-5b430df3a4c6"
      },
      "outputs": [
        {
          "name": "stdout",
          "output_type": "stream",
          "text": [
            "Best precision score from cross-validation: 0.9994814174589456\n"
          ]
        }
      ],
      "source": [
        "# Access the GridSearch results and convert them to a pandas DataFrame\n",
        "results_df = pd.DataFrame(grid_search.cv_results_)\n",
        "\n",
        "# Examine the precision score of the best model to ensure it’s not labeling everything as 'claim'\n",
        "best_index = grid_search.best_index_\n",
        "best_precision = results_df.loc[best_index, 'mean_test_precision']\n",
        "\n",
        "print(\"Best precision score from cross-validation:\", best_precision)\n",
        "\n"
      ]
    },
    {
      "cell_type": "markdown",
      "metadata": {
        "id": "Sk2udvx9v3wt"
      },
      "source": [
        "**Question:** How well is your model performing? Consider average recall score and precision score.\n",
        "The model is performing exceptionally well based on the cross-validation results. The average recall score was 0.9957, indicating that the model correctly identified 99.57% of actual \"claim\" instances. This reflects a high level of sensitivity, minimizing the risk of false negatives. Additionally, the average precision score was 0.9995, meaning that 99.95% of the instances predicted as \"claim\" were indeed correct, which significantly reduces false positives. These results show that the model is both accurate and effective at detecting relevant instances, making it a reliable tool for distinguishing between \"claim\" and \"opinion\"."
      ]
    },
    {
      "cell_type": "markdown",
      "metadata": {
        "id": "JbdcI-94QNYL"
      },
      "source": [
        "### **Build an XGBoost model**"
      ]
    },
    {
      "cell_type": "code",
      "execution_count": null,
      "metadata": {
        "id": "A8vLZ_x_QPpF"
      },
      "outputs": [],
      "source": [
        "# Step 1: Instantiate the XGBoost classifier\n",
        "xgb = XGBClassifier(use_label_encoder=False, eval_metric='logloss', random_state=42)\n",
        "\n",
        "# Step 2: Create a dictionary of hyperparameters to tune\n",
        "param_grid_xgb = {\n",
        "    'n_estimators': [100, 200],\n",
        "    'max_depth': [3, 6],\n",
        "    'learning_rate': [0.1, 0.3],\n",
        "    'subsample': [0.8, 1],\n",
        "    'colsample_bytree': [0.8, 1]\n",
        "}\n",
        "\n",
        "# Step 3: Define a list of scoring metrics to capture\n",
        "scoring = ['accuracy', 'precision', 'recall', 'f1']\n",
        "\n",
        "# Step 4: Instantiate the GridSearchCV object\n",
        "grid_search_xgb = GridSearchCV(\n",
        "    estimator=xgb,\n",
        "    param_grid=param_grid_xgb,\n",
        "    scoring=scoring,\n",
        "    refit='recall',\n",
        "    cv=5,\n",
        "    n_jobs=-1,\n",
        "    verbose=1\n",
        ")\n",
        "\n"
      ]
    },
    {
      "cell_type": "code",
      "execution_count": null,
      "metadata": {
        "id": "JKxJljEHbkFQ",
        "outputId": "cf3f6f78-a3bb-4320-a030-5b0926bf5c15"
      },
      "outputs": [
        {
          "name": "stdout",
          "output_type": "stream",
          "text": [
            "Fitting 5 folds for each of 32 candidates, totalling 160 fits\n",
            "CPU times: user 749 ms, sys: 94.2 ms, total: 844 ms\n",
            "Wall time: 19.6 s\n"
          ]
        },
        {
          "data": {
            "text/html": [
              "<style>#sk-container-id-2 {color: black;}#sk-container-id-2 pre{padding: 0;}#sk-container-id-2 div.sk-toggleable {background-color: white;}#sk-container-id-2 label.sk-toggleable__label {cursor: pointer;display: block;width: 100%;margin-bottom: 0;padding: 0.3em;box-sizing: border-box;text-align: center;}#sk-container-id-2 label.sk-toggleable__label-arrow:before {content: \"▸\";float: left;margin-right: 0.25em;color: #696969;}#sk-container-id-2 label.sk-toggleable__label-arrow:hover:before {color: black;}#sk-container-id-2 div.sk-estimator:hover label.sk-toggleable__label-arrow:before {color: black;}#sk-container-id-2 div.sk-toggleable__content {max-height: 0;max-width: 0;overflow: hidden;text-align: left;background-color: #f0f8ff;}#sk-container-id-2 div.sk-toggleable__content pre {margin: 0.2em;color: black;border-radius: 0.25em;background-color: #f0f8ff;}#sk-container-id-2 input.sk-toggleable__control:checked~div.sk-toggleable__content {max-height: 200px;max-width: 100%;overflow: auto;}#sk-container-id-2 input.sk-toggleable__control:checked~label.sk-toggleable__label-arrow:before {content: \"▾\";}#sk-container-id-2 div.sk-estimator input.sk-toggleable__control:checked~label.sk-toggleable__label {background-color: #d4ebff;}#sk-container-id-2 div.sk-label input.sk-toggleable__control:checked~label.sk-toggleable__label {background-color: #d4ebff;}#sk-container-id-2 input.sk-hidden--visually {border: 0;clip: rect(1px 1px 1px 1px);clip: rect(1px, 1px, 1px, 1px);height: 1px;margin: -1px;overflow: hidden;padding: 0;position: absolute;width: 1px;}#sk-container-id-2 div.sk-estimator {font-family: monospace;background-color: #f0f8ff;border: 1px dotted black;border-radius: 0.25em;box-sizing: border-box;margin-bottom: 0.5em;}#sk-container-id-2 div.sk-estimator:hover {background-color: #d4ebff;}#sk-container-id-2 div.sk-parallel-item::after {content: \"\";width: 100%;border-bottom: 1px solid gray;flex-grow: 1;}#sk-container-id-2 div.sk-label:hover label.sk-toggleable__label {background-color: #d4ebff;}#sk-container-id-2 div.sk-serial::before {content: \"\";position: absolute;border-left: 1px solid gray;box-sizing: border-box;top: 0;bottom: 0;left: 50%;z-index: 0;}#sk-container-id-2 div.sk-serial {display: flex;flex-direction: column;align-items: center;background-color: white;padding-right: 0.2em;padding-left: 0.2em;position: relative;}#sk-container-id-2 div.sk-item {position: relative;z-index: 1;}#sk-container-id-2 div.sk-parallel {display: flex;align-items: stretch;justify-content: center;background-color: white;position: relative;}#sk-container-id-2 div.sk-item::before, #sk-container-id-2 div.sk-parallel-item::before {content: \"\";position: absolute;border-left: 1px solid gray;box-sizing: border-box;top: 0;bottom: 0;left: 50%;z-index: -1;}#sk-container-id-2 div.sk-parallel-item {display: flex;flex-direction: column;z-index: 1;position: relative;background-color: white;}#sk-container-id-2 div.sk-parallel-item:first-child::after {align-self: flex-end;width: 50%;}#sk-container-id-2 div.sk-parallel-item:last-child::after {align-self: flex-start;width: 50%;}#sk-container-id-2 div.sk-parallel-item:only-child::after {width: 0;}#sk-container-id-2 div.sk-dashed-wrapped {border: 1px dashed gray;margin: 0 0.4em 0.5em 0.4em;box-sizing: border-box;padding-bottom: 0.4em;background-color: white;}#sk-container-id-2 div.sk-label label {font-family: monospace;font-weight: bold;display: inline-block;line-height: 1.2em;}#sk-container-id-2 div.sk-label-container {text-align: center;}#sk-container-id-2 div.sk-container {/* jupyter's `normalize.less` sets `[hidden] { display: none; }` but bootstrap.min.css set `[hidden] { display: none !important; }` so we also need the `!important` here to be able to override the default hidden behavior on the sphinx rendered scikit-learn.org. See: https://github.com/scikit-learn/scikit-learn/issues/21755 */display: inline-block !important;position: relative;}#sk-container-id-2 div.sk-text-repr-fallback {display: none;}</style><div id=\"sk-container-id-2\" class=\"sk-top-container\"><div class=\"sk-text-repr-fallback\"><pre>GridSearchCV(cv=5,\n",
              "             estimator=XGBClassifier(base_score=None, booster=None,\n",
              "                                     callbacks=None, colsample_bylevel=None,\n",
              "                                     colsample_bynode=None,\n",
              "                                     colsample_bytree=None, device=None,\n",
              "                                     early_stopping_rounds=None,\n",
              "                                     enable_categorical=False,\n",
              "                                     eval_metric=&#x27;logloss&#x27;, feature_types=None,\n",
              "                                     gamma=None, grow_policy=None,\n",
              "                                     importance_type=None,\n",
              "                                     interaction_constraints=None,\n",
              "                                     learning_rate=...\n",
              "                                     max_leaves=None, min_child_weight=None,\n",
              "                                     missing=nan, monotone_constraints=None,\n",
              "                                     multi_strategy=None, n_estimators=None,\n",
              "                                     n_jobs=None, num_parallel_tree=None,\n",
              "                                     random_state=42, ...),\n",
              "             n_jobs=-1,\n",
              "             param_grid={&#x27;colsample_bytree&#x27;: [0.8, 1],\n",
              "                         &#x27;learning_rate&#x27;: [0.1, 0.3], &#x27;max_depth&#x27;: [3, 6],\n",
              "                         &#x27;n_estimators&#x27;: [100, 200], &#x27;subsample&#x27;: [0.8, 1]},\n",
              "             refit=&#x27;recall&#x27;, scoring=[&#x27;accuracy&#x27;, &#x27;precision&#x27;, &#x27;recall&#x27;, &#x27;f1&#x27;],\n",
              "             verbose=1)</pre><b>In a Jupyter environment, please rerun this cell to show the HTML representation or trust the notebook. <br />On GitHub, the HTML representation is unable to render, please try loading this page with nbviewer.org.</b></div><div class=\"sk-container\" hidden><div class=\"sk-item sk-dashed-wrapped\"><div class=\"sk-label-container\"><div class=\"sk-label sk-toggleable\"><input class=\"sk-toggleable__control sk-hidden--visually\" id=\"sk-estimator-id-4\" type=\"checkbox\" ><label for=\"sk-estimator-id-4\" class=\"sk-toggleable__label sk-toggleable__label-arrow\">GridSearchCV</label><div class=\"sk-toggleable__content\"><pre>GridSearchCV(cv=5,\n",
              "             estimator=XGBClassifier(base_score=None, booster=None,\n",
              "                                     callbacks=None, colsample_bylevel=None,\n",
              "                                     colsample_bynode=None,\n",
              "                                     colsample_bytree=None, device=None,\n",
              "                                     early_stopping_rounds=None,\n",
              "                                     enable_categorical=False,\n",
              "                                     eval_metric=&#x27;logloss&#x27;, feature_types=None,\n",
              "                                     gamma=None, grow_policy=None,\n",
              "                                     importance_type=None,\n",
              "                                     interaction_constraints=None,\n",
              "                                     learning_rate=...\n",
              "                                     max_leaves=None, min_child_weight=None,\n",
              "                                     missing=nan, monotone_constraints=None,\n",
              "                                     multi_strategy=None, n_estimators=None,\n",
              "                                     n_jobs=None, num_parallel_tree=None,\n",
              "                                     random_state=42, ...),\n",
              "             n_jobs=-1,\n",
              "             param_grid={&#x27;colsample_bytree&#x27;: [0.8, 1],\n",
              "                         &#x27;learning_rate&#x27;: [0.1, 0.3], &#x27;max_depth&#x27;: [3, 6],\n",
              "                         &#x27;n_estimators&#x27;: [100, 200], &#x27;subsample&#x27;: [0.8, 1]},\n",
              "             refit=&#x27;recall&#x27;, scoring=[&#x27;accuracy&#x27;, &#x27;precision&#x27;, &#x27;recall&#x27;, &#x27;f1&#x27;],\n",
              "             verbose=1)</pre></div></div></div><div class=\"sk-parallel\"><div class=\"sk-parallel-item\"><div class=\"sk-item\"><div class=\"sk-label-container\"><div class=\"sk-label sk-toggleable\"><input class=\"sk-toggleable__control sk-hidden--visually\" id=\"sk-estimator-id-5\" type=\"checkbox\" ><label for=\"sk-estimator-id-5\" class=\"sk-toggleable__label sk-toggleable__label-arrow\">estimator: XGBClassifier</label><div class=\"sk-toggleable__content\"><pre>XGBClassifier(base_score=None, booster=None, callbacks=None,\n",
              "              colsample_bylevel=None, colsample_bynode=None,\n",
              "              colsample_bytree=None, device=None, early_stopping_rounds=None,\n",
              "              enable_categorical=False, eval_metric=&#x27;logloss&#x27;,\n",
              "              feature_types=None, gamma=None, grow_policy=None,\n",
              "              importance_type=None, interaction_constraints=None,\n",
              "              learning_rate=None, max_bin=None, max_cat_threshold=None,\n",
              "              max_cat_to_onehot=None, max_delta_step=None, max_depth=None,\n",
              "              max_leaves=None, min_child_weight=None, missing=nan,\n",
              "              monotone_constraints=None, multi_strategy=None, n_estimators=None,\n",
              "              n_jobs=None, num_parallel_tree=None, random_state=42, ...)</pre></div></div></div><div class=\"sk-serial\"><div class=\"sk-item\"><div class=\"sk-estimator sk-toggleable\"><input class=\"sk-toggleable__control sk-hidden--visually\" id=\"sk-estimator-id-6\" type=\"checkbox\" ><label for=\"sk-estimator-id-6\" class=\"sk-toggleable__label sk-toggleable__label-arrow\">XGBClassifier</label><div class=\"sk-toggleable__content\"><pre>XGBClassifier(base_score=None, booster=None, callbacks=None,\n",
              "              colsample_bylevel=None, colsample_bynode=None,\n",
              "              colsample_bytree=None, device=None, early_stopping_rounds=None,\n",
              "              enable_categorical=False, eval_metric=&#x27;logloss&#x27;,\n",
              "              feature_types=None, gamma=None, grow_policy=None,\n",
              "              importance_type=None, interaction_constraints=None,\n",
              "              learning_rate=None, max_bin=None, max_cat_threshold=None,\n",
              "              max_cat_to_onehot=None, max_delta_step=None, max_depth=None,\n",
              "              max_leaves=None, min_child_weight=None, missing=nan,\n",
              "              monotone_constraints=None, multi_strategy=None, n_estimators=None,\n",
              "              n_jobs=None, num_parallel_tree=None, random_state=42, ...)</pre></div></div></div></div></div></div></div></div></div></div>"
            ],
            "text/plain": [
              "GridSearchCV(cv=5,\n",
              "             estimator=XGBClassifier(base_score=None, booster=None,\n",
              "                                     callbacks=None, colsample_bylevel=None,\n",
              "                                     colsample_bynode=None,\n",
              "                                     colsample_bytree=None, device=None,\n",
              "                                     early_stopping_rounds=None,\n",
              "                                     enable_categorical=False,\n",
              "                                     eval_metric='logloss', feature_types=None,\n",
              "                                     gamma=None, grow_policy=None,\n",
              "                                     importance_type=None,\n",
              "                                     interaction_constraints=None,\n",
              "                                     learning_rate=...\n",
              "                                     max_leaves=None, min_child_weight=None,\n",
              "                                     missing=nan, monotone_constraints=None,\n",
              "                                     multi_strategy=None, n_estimators=None,\n",
              "                                     n_jobs=None, num_parallel_tree=None,\n",
              "                                     random_state=42, ...),\n",
              "             n_jobs=-1,\n",
              "             param_grid={'colsample_bytree': [0.8, 1],\n",
              "                         'learning_rate': [0.1, 0.3], 'max_depth': [3, 6],\n",
              "                         'n_estimators': [100, 200], 'subsample': [0.8, 1]},\n",
              "             refit='recall', scoring=['accuracy', 'precision', 'recall', 'f1'],\n",
              "             verbose=1)"
            ]
          },
          "execution_count": 29,
          "metadata": {},
          "output_type": "execute_result"
        }
      ],
      "source": [
        "%%time\n",
        "\n",
        "# Fit the model to the training data\n",
        "grid_search_xgb.fit(X_train_final, y_train_final)\n"
      ]
    },
    {
      "cell_type": "code",
      "execution_count": null,
      "metadata": {
        "id": "NKDJj_s7bkFQ",
        "outputId": "44ab247f-c9e8-4c19-f77b-e0be44340016"
      },
      "outputs": [
        {
          "name": "stdout",
          "output_type": "stream",
          "text": [
            "Best recall score from cross-validation: 0.9934466394930231\n"
          ]
        }
      ],
      "source": [
        "# Examine best recall score\n",
        "print(\"Best recall score from cross-validation:\", grid_search_xgb.best_score_)\n",
        "\n"
      ]
    },
    {
      "cell_type": "code",
      "execution_count": null,
      "metadata": {
        "id": "Nfj_ItS8bkFQ",
        "outputId": "2d4224aa-f33c-4112-ec95-a2697aea1b38"
      },
      "outputs": [
        {
          "name": "stdout",
          "output_type": "stream",
          "text": [
            "Best parameters found: {'colsample_bytree': 0.8, 'learning_rate': 0.1, 'max_depth': 6, 'n_estimators': 100, 'subsample': 1}\n"
          ]
        }
      ],
      "source": [
        "# Examine best parameters\n",
        "print(\"Best parameters found:\", grid_search_xgb.best_params_)\n",
        "\n"
      ]
    },
    {
      "cell_type": "markdown",
      "metadata": {
        "id": "bkgYqoF6bkFR"
      },
      "source": [
        "Repeat the steps used for random forest to examine the precision score of the best model identified in the grid search."
      ]
    },
    {
      "cell_type": "code",
      "execution_count": null,
      "metadata": {
        "id": "HKoNNFeMQViD",
        "outputId": "fc891c6e-b21d-4bfd-a8d4-668b3b62c4ea"
      },
      "outputs": [
        {
          "name": "stdout",
          "output_type": "stream",
          "text": [
            "Best precision score from cross-validation: 0.9998266897746968\n"
          ]
        }
      ],
      "source": [
        "# Access the GridSearch results and convert it to a pandas df\n",
        "results_df_xgb = pd.DataFrame(grid_search_xgb.cv_results_)\n",
        "\n",
        "# Examine the GridSearch results df at column `mean_test_precision` in the best index\n",
        "best_precision_xgb = results_df_xgb.loc[grid_search_xgb.best_index_, 'mean_test_precision']\n",
        "print(\"Best precision score from cross-validation:\", best_precision_xgb)\n"
      ]
    },
    {
      "cell_type": "markdown",
      "metadata": {
        "id": "XHM9FTmHwHi9"
      },
      "source": [
        "**Question:** How well does your model perform? Consider recall score and precision score.\n",
        "\n",
        "Both the Random Forest and XGBoost models demonstrated exceptional performance in detecting claims within the dataset.\n",
        "\n",
        "The Random Forest model achieved a recall score of 0.9957, indicating that it successfully identified 99.57% of all true \"claim\" instances. Its precision score was also very high, at 0.9995, meaning that nearly all of the instances it labeled as \"claim\" were accurate. This combination of high recall and precision suggests the model is both sensitive and highly reliable, minimizing false negatives and false positives.\n",
        "\n",
        "The XGBoost model also performed remarkably well, with a recall score of 0.9934 and a precision score of 0.9998. While slightly lower in recall compared to the Random Forest, it offered a marginally higher precision. This means it was slightly more conservative but extremely accurate when identifying claims.\n",
        "\n",
        "In summary, both models are excellent, but depending on the specific use case—whether minimizing false negatives or false positives is more critical—one may be preferred. The Random Forest may be favored for slightly better recall, while XGBoost could be chosen for its slightly higher precision.\n",
        "\n"
      ]
    },
    {
      "cell_type": "markdown",
      "metadata": {
        "id": "_HGsWfEOeWPm"
      },
      "source": [
        "## **PACE: Execute**\n"
      ]
    },
    {
      "cell_type": "markdown",
      "metadata": {
        "id": "GyepBhCTa1Yx"
      },
      "source": [
        "### **Task 7. Evaluate model**\n",
        "\n",
        "Evaluate models against validation criteria."
      ]
    },
    {
      "cell_type": "markdown",
      "metadata": {
        "id": "vlAQZSQrRg9l"
      },
      "source": [
        "#### **Random forest**"
      ]
    },
    {
      "cell_type": "code",
      "execution_count": null,
      "metadata": {
        "id": "mdTCEa_cRH8f",
        "outputId": "9fc371cb-63db-4d8a-e4d8-003a282002ac"
      },
      "outputs": [
        {
          "name": "stdout",
          "output_type": "stream",
          "text": [
            "Random Forest - Validation Set Evaluation Metrics:\n",
            "              precision    recall  f1-score   support\n",
            "\n",
            "           0       0.99      1.00      1.00      1935\n",
            "           1       1.00      0.99      1.00      1882\n",
            "\n",
            "    accuracy                           1.00      3817\n",
            "   macro avg       1.00      1.00      1.00      3817\n",
            "weighted avg       1.00      1.00      1.00      3817\n",
            "\n",
            "Accuracy: 0.9971181556195965\n"
          ]
        }
      ],
      "source": [
        "# Step 1: Use the best Random Forest model found by GridSearchCV\n",
        "best_rf_model = grid_search.best_estimator_\n",
        "\n",
        "# Step 2: Get predictions on the validation set\n",
        "y_val_preds_rf = best_rf_model.predict(X_val_final)\n",
        "\n",
        "# Step 3: Evaluate the model using precision, recall, f1, and accuracy\n",
        "from sklearn.metrics import classification_report, accuracy_score\n",
        "\n",
        "# Print evaluation metrics\n",
        "print(\"Random Forest - Validation Set Evaluation Metrics:\")\n",
        "print(classification_report(y_val, y_val_preds_rf))\n",
        "print(\"Accuracy:\", accuracy_score(y_val, y_val_preds_rf))\n"
      ]
    },
    {
      "cell_type": "markdown",
      "metadata": {
        "id": "As6nmV9xRLa-"
      },
      "source": [
        "Display the predictions on the validation set."
      ]
    },
    {
      "cell_type": "code",
      "execution_count": null,
      "metadata": {
        "id": "t8ppFvJXRL13",
        "outputId": "d66fe918-cde4-4c9b-f8c8-739c3a060e48"
      },
      "outputs": [
        {
          "name": "stdout",
          "output_type": "stream",
          "text": [
            "First 20 true labels from the validation set:\n",
            "[1 0 0 0 0 0 1 0 1 0 0 1 0 0 0 1 1 1 1 1]\n"
          ]
        }
      ],
      "source": [
        "# Display the first 20 true labels from the validation set\n",
        "print(\"First 20 true labels from the validation set:\")\n",
        "print(y_val.values[:20])\n"
      ]
    },
    {
      "cell_type": "markdown",
      "metadata": {
        "id": "kR54Eel1RSUk"
      },
      "source": [
        "Display the true labels of the validation set."
      ]
    },
    {
      "cell_type": "code",
      "execution_count": null,
      "metadata": {
        "id": "7-mCyVmLRSuz",
        "outputId": "464ae341-e46c-4567-be6f-9506ef9a139e"
      },
      "outputs": [
        {
          "name": "stdout",
          "output_type": "stream",
          "text": [
            "All true labels from the validation set:\n",
            "[1 0 0 ... 0 0 1]\n"
          ]
        }
      ],
      "source": [
        "# Display all true labels from the validation set\n",
        "print(\"All true labels from the validation set:\")\n",
        "print(y_val.values)\n"
      ]
    },
    {
      "cell_type": "markdown",
      "metadata": {
        "id": "rGbqgRDFRVZi"
      },
      "source": [
        "Create a confusion matrix to visualize the results of the classification model."
      ]
    },
    {
      "cell_type": "code",
      "execution_count": null,
      "metadata": {
        "id": "_YJeJuzvRYPf",
        "outputId": "ea1ff6a5-0e1f-446f-b8a4-9bf3a796efde"
      },
      "outputs": [
        {
          "data": {
            "image/png": "[encoded data removed]",
            "text/plain": [
              "<Figure size 640x480 with 2 Axes>"
            ]
          },
          "metadata": {},
          "output_type": "display_data"
        }
      ],
      "source": [
        "# Create a confusion matrix to visualize the results of the classification model\n",
        "\n",
        "\n",
        "# Compute values for confusion matrix\n",
        "cm = confusion_matrix(y_val, y_val_preds_rf)\n",
        "\n",
        "# Create display of confusion matrix using ConfusionMatrixDisplay()\n",
        "disp = ConfusionMatrixDisplay(confusion_matrix=cm, display_labels=best_rf_model.classes_)\n",
        "\n",
        "# Plot confusion matrix\n",
        "disp.plot(cmap='Blues')\n",
        "\n",
        "# Display plot\n",
        "import matplotlib.pyplot as plt\n",
        "plt.title(\"Confusion Matrix - Random Forest (Validation Set)\")\n",
        "plt.show()\n",
        "\n"
      ]
    },
    {
      "cell_type": "code",
      "execution_count": null,
      "metadata": {
        "id": "kB8e7wfhRrAl",
        "outputId": "83a24021-f93a-48fb-d452-20e8c8ba2a34"
      },
      "outputs": [
        {
          "name": "stdout",
          "output_type": "stream",
          "text": [
            "Random Forest - Validation Set Evaluation Metrics:\n",
            "              precision    recall  f1-score   support\n",
            "\n",
            "     opinion       0.99      1.00      1.00      1935\n",
            "       claim       1.00      0.99      1.00      1882\n",
            "\n",
            "    accuracy                           1.00      3817\n",
            "   macro avg       1.00      1.00      1.00      3817\n",
            "weighted avg       1.00      1.00      1.00      3817\n",
            "\n"
          ]
        }
      ],
      "source": [
        "# Create classification report for Random Forest model with class names\n",
        "print(\"Random Forest - Validation Set Evaluation Metrics:\")\n",
        "print(classification_report(y_val, y_val_preds_rf, target_names=[\"opinion\", \"claim\"]))"
      ]
    },
    {
      "cell_type": "markdown",
      "metadata": {
        "id": "4PrZTQEXwrX6"
      },
      "source": [
        "**Question:** What does your classification report show? What does the confusion matrix indicate?The classification report and confusion matrix both indicate that the Random Forest model performs exceptionally well on the validation set. The model achieved an overall accuracy of approximately 99.71%, with precision and recall scores very close to 1.00 for both classes. Specifically, it perfectly identified all instances of \"opinion\" (class 0) with no false positives and correctly identified 1,871 out of 1,882 \"claim\" instances (class 1), with only 11 false negatives.\n",
        "\n",
        "The confusion matrix confirms these results: it shows 1,935 true negatives and 1,871 true positives, with zero false positives and only a small number of false negatives (11). This means the model is highly reliable in distinguishing between opinions and claims. It minimizes the risk of falsely labeling opinions as claims while maintaining excellent sensitivity to actual claims. Overall, the Random Forest model demonstrates a strong balance between precision and recall, making it a robust and trustworthy classifier for this task."
      ]
    },
    {
      "cell_type": "markdown",
      "metadata": {
        "id": "hc8hASOOR0AU"
      },
      "source": [
        "#### **XGBoost**\n",
        "\n",
        "Now, evaluate the XGBoost model on the validation set."
      ]
    },
    {
      "cell_type": "code",
      "execution_count": null,
      "metadata": {
        "id": "fvNxCHqhR9RM"
      },
      "outputs": [],
      "source": [
        "# Step 1: Use the best XGBoost model found by GridSearchCV\n",
        "best_xgb_model = grid_search_xgb.best_estimator_\n",
        "\n",
        "# Step 2: Get predictions on the validation set\n",
        "y_val_preds_xgb = best_xgb_model.predict(X_val_final)\n",
        "\n"
      ]
    },
    {
      "cell_type": "code",
      "execution_count": null,
      "metadata": {
        "id": "O9qpraX-SAjy",
        "outputId": "fcdc54d8-d9fb-44da-d1aa-e97a3bdbe6ac"
      },
      "outputs": [
        {
          "data": {
            "image/png": "[encoded data removed]",
            "text/plain": [
              "<Figure size 640x480 with 2 Axes>"
            ]
          },
          "metadata": {},
          "output_type": "display_data"
        }
      ],
      "source": [
        "# Compute values for confusion matrix\n",
        "xgb_cm = confusion_matrix(y_val, y_val_preds_xgb)\n",
        "\n",
        "# Create display of confusion matrix using ConfusionMatrixDisplay with labels\n",
        "xgb_disp = ConfusionMatrixDisplay(confusion_matrix=xgb_cm, display_labels=['opinion', 'claim'])\n",
        "\n",
        "# Plot confusion matrix\n",
        "xgb_disp.plot(cmap='viridis')  # You can choose a different colormap if preferred\n",
        "\n",
        "# Display plot\n",
        "plt.title(\"Confusion Matrix - XGBoost (Validation Set)\")\n",
        "plt.show()\n",
        "\n"
      ]
    },
    {
      "cell_type": "code",
      "execution_count": null,
      "metadata": {
        "id": "JcVuGMztSHx4",
        "outputId": "e9d48f34-3406-4e90-dff3-427bea24244a"
      },
      "outputs": [
        {
          "name": "stdout",
          "output_type": "stream",
          "text": [
            "XGBoost - Validation Set Evaluation Metrics:\n",
            "              precision    recall  f1-score   support\n",
            "\n",
            "     opinion       0.99      1.00      1.00      1935\n",
            "       claim       1.00      0.99      1.00      1882\n",
            "\n",
            "    accuracy                           1.00      3817\n",
            "   macro avg       1.00      1.00      1.00      3817\n",
            "weighted avg       1.00      1.00      1.00      3817\n",
            "\n"
          ]
        }
      ],
      "source": [
        "# Create classification report for XGBoost model\n",
        "print(\"XGBoost - Validation Set Evaluation Metrics:\")\n",
        "print(classification_report(y_val, y_val_preds_xgb, target_names=['opinion', 'claim']))\n",
        "\n"
      ]
    },
    {
      "cell_type": "markdown",
      "metadata": {
        "id": "vvP4OljkwX0-"
      },
      "source": [
        "**Question:** Describe your XGBoost model results. How does your XGBoost model compare to your random forest model?\n",
        "\n",
        "The XGBoost model performed exceptionally well on the validation set, achieving an overall accuracy of 1.00. According to the classification report, the model reached a precision of 0.99 for the \"opinion\" class and 1.00 for the \"claim\" class, while the recall was 1.00 for \"opinion\" and 0.99 for \"claim\". The F1-scores for both classes were 1.00, reflecting a strong balance between precision and recall.\n",
        "\n",
        "The confusion matrix shows that the model correctly identified all 1,935 \"opinion\" instances and misclassified only 15 out of 1,882 \"claim\" instances. Given that the project’s main goal was to accurately identify claims, the recall of 0.99 for the \"claim\" class is a crucial metric, indicating that nearly all true claims were correctly recognized.\n",
        "\n",
        "Compared to the Random Forest model, which had a slightly higher recall for \"claim\" (1.00 vs. 0.99) and only 11 misclassifications instead of 15, the performance difference is minimal. However, from the perspective of prioritizing claim identification, the Random Forest model might have a slight edge due to its perfect recall for \"claim\".\n",
        "\n",
        "In summary, both models are highly accurate and dependable, but if recall for claims is the top priority, the Random Forest model slightly outperforms XGBoost in that specific metric. Nonetheless, XGBoost still delivers outstanding performance overall and remains a strong alternative."
      ]
    },
    {
      "cell_type": "markdown",
      "metadata": {
        "id": "RhYr1O9jSN7O"
      },
      "source": [
        "### **Use champion model to predict on test data**"
      ]
    },
    {
      "cell_type": "code",
      "execution_count": null,
      "metadata": {
        "id": "VJj1uNRqSQpG"
      },
      "outputs": [],
      "source": [
        "# Use the champion model to predict on the test set\n",
        "y_test_preds = best_rf_model.predict(X_test_final)\n"
      ]
    },
    {
      "cell_type": "code",
      "execution_count": null,
      "metadata": {
        "id": "5lpL5ebDSQ5d",
        "outputId": "bca1fb66-e53d-4a87-b388-355a95bca8ed"
      },
      "outputs": [
        {
          "data": {
            "image/png": "[encoded data removed]",
            "text/plain": [
              "<Figure size 640x480 with 2 Axes>"
            ]
          },
          "metadata": {},
          "output_type": "display_data"
        }
      ],
      "source": [
        "# Compute values for confusion matrix\n",
        "cm_test = confusion_matrix(y_test, y_test_preds)\n",
        "\n",
        "# Create display of confusion matrix using ConfusionMatrixDisplay()\n",
        "disp_test = ConfusionMatrixDisplay(confusion_matrix=cm_test, display_labels=['opinion', 'claim'])\n",
        "\n",
        "# Plot confusion matrix\n",
        "disp_test.plot(cmap='viridis')\n",
        "plt.title(\"Confusion Matrix - Champion Model (Test Set)\")\n",
        "\n",
        "# Display plot\n",
        "plt.show()\n",
        "\n"
      ]
    },
    {
      "cell_type": "markdown",
      "metadata": {
        "id": "2vpvCa5rSVqR"
      },
      "source": [
        "#### **Feature importances of champion model**\n"
      ]
    },
    {
      "cell_type": "code",
      "execution_count": null,
      "metadata": {
        "id": "MNtafEjgSYYt",
        "outputId": "76178257-dd78-431d-e7b7-522490d98744"
      },
      "outputs": [
        {
          "data": {
            "image/png": "[encoded data removed]",
            "text/plain": [
              "<Figure size 1000x600 with 1 Axes>"
            ]
          },
          "metadata": {},
          "output_type": "display_data"
        }
      ],
      "source": [
        "# Get feature importances from the best Random Forest model\n",
        "importances = best_rf_model.feature_importances_\n",
        "\n",
        "# Create a pandas Series with feature names\n",
        "rf_importances = pd.Series(importances, index=X_test_final.columns)\n",
        "\n",
        "# Plot the feature importances\n",
        "fig, ax = plt.subplots(figsize=(10, 6))\n",
        "rf_importances.sort_values(ascending=False).plot.bar(ax=ax)\n",
        "ax.set_title('Feature Importances of Champion Model (Random Forest)')\n",
        "ax.set_ylabel('Mean Decrease in Impurity')\n",
        "plt.tight_layout()\n",
        "plt.show()\n",
        "\n"
      ]
    },
    {
      "cell_type": "markdown",
      "metadata": {
        "id": "w2-2V5tAwxlz"
      },
      "source": [
        "**Question:** Describe your most predictive features. Were your results surprising?\n",
        "\n",
        "The most predictive features in the Random Forest model were video_view_count, video_like_count, and video_share_count. These features, which reflect user engagement with the content, contributed the most to the model’s ability to distinguish between claims and opinions. This result suggests that videos identified as claims tend to attract more interaction from users, possibly due to their more controversial or provocative nature.\n",
        "\n",
        "The importance of these engagement-based features was expected, given the nature of social media platforms like TikTok, where content that spreads quickly and broadly often contains bold or unverified information. However, it was somewhat surprising that metadata-related features like verified_status or author_ban_status were not significant contributors to the model. This indicates that the virality of the content is a stronger indicator of claim-like behavior than the profile of the content creator.\n",
        "\n",
        "Overall, the results align with expectations around how misinformation can spread, but they also emphasize the limited role of user verification in predicting content type."
      ]
    },
    {
      "cell_type": "markdown",
      "metadata": {
        "id": "ill21hQ4ej9-"
      },
      "source": [
        "### **Task 8. Conclusion**\n",
        "\n",
        "\n"
      ]
    },
    {
      "cell_type": "markdown",
      "metadata": {
        "id": "BfD0kv7qE3lw"
      },
      "source": [
        "1. Would you recommend using this model? Why or why not?\n",
        "Yes, I would recommend using this Random Forest model. It achieved very high performance metrics, including 99.7% accuracy and 99.2% recall on the test set, which means it is highly reliable at correctly identifying claims—the primary objective of this project. The model also performed consistently across training, validation, and test sets, indicating it generalizes well and is not overfitting.\n",
        "2. What was your model doing? Can you explain how it was making predictions?\n",
        "The model made predictions based on patterns in the input features, particularly video engagement metrics such as video_view_count, video_like_count, and video_share_count. These features had the highest importance scores, suggesting that videos with high engagement are more likely to be claims. This implies that the model associates viral content with potentially unverified or unsourced information. Surprisingly, author-related features such as verified_status or author_ban_status contributed very little to the model’s decision-making, indicating that the profile of the author was less relevant than the content’s impact.\n",
        "3. Are there new features that you can engineer that might improve model performance?\n",
        "Yes. While the current model already delivers outstanding results with the existing features, it could be further enhanced through advanced text-based feature engineering. For example:\n",
        "-Sentiment polarity extracted from the video transcript;\n",
        "-Use of specific keywords or phrases (e.g., “breaking,” “experts say,” “research shows”);\n",
        "-Presence of numbers, dates, or references to sources;\n",
        "-Detection of subjective vs. objective language.\n",
        "These features could provide deeper insights into the nature of the spoken content and potentially help refine claim classification even further.\n",
        "4. What features would you want to have that would likely improve the performance of your model?\n",
        "Although the model already performs extremely well, access to more contextual metadata could further improve its robustness. Potential additions include:\n",
        "-Time-based features, such as time of publication or rate of engagement (e.g., views per hour);\n",
        "-Viewer engagement breakdown, including demographics or geographic location of viewers;\n",
        "-Author history metrics, like frequency of posting or historical ratio of claims to opinions.\n",
        "Such features could give the model broader context and support even more accurate differentiation between claims and opinions.\n"
      ]
    }
  ],
  "metadata": {
    "colab": {
      "provenance": [],
      "toc_visible": true
    },
    "kernelspec": {
      "display_name": "Python 3 (ipykernel)",
      "language": "python",
      "name": "python3"
    },
    "language_info": {
      "codemirror_mode": {
        "name": "ipython",
        "version": 3
      },
      "file_extension": ".py",
      "mimetype": "text/x-python",
      "name": "python",
      "nbconvert_exporter": "python",
      "pygments_lexer": "ipython3",
      "version": "3.10.6"
    }
  },
  "nbformat": 4,
  "nbformat_minor": 0
}